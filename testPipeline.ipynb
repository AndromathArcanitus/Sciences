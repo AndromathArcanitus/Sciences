{
  "cells": [
    {
      "cell_type": "markdown",
      "metadata": {
        "id": "view-in-github",
        "colab_type": "text"
      },
      "source": [
        "<a href=\"https://colab.research.google.com/github/AndromathArcanitus/Sciences/blob/master/testPipeline.ipynb\" target=\"_parent\"><img src=\"https://colab.research.google.com/assets/colab-badge.svg\" alt=\"Open In Colab\"/></a>"
      ]
    },
    {
      "cell_type": "markdown",
      "source": [
        "## Packages Loading"
      ],
      "metadata": {
        "collapsed": false,
        "id": "6cc4cb4e04daadb5"
      },
      "id": "6cc4cb4e04daadb5"
    },
    {
      "cell_type": "code",
      "execution_count": null,
      "id": "initial_id",
      "metadata": {
        "collapsed": true,
        "ExecuteTime": {
          "end_time": "2023-09-18T15:58:32.679922800Z",
          "start_time": "2023-09-18T15:58:31.681736400Z"
        },
        "id": "initial_id"
      },
      "outputs": [],
      "source": [
        "import os\n",
        "import numpy as np\n",
        "import pandas as pd\n",
        "import sklearn\n",
        "import matplotlib.pyplot as plt\n",
        "import pickle"
      ]
    },
    {
      "cell_type": "markdown",
      "source": [
        "## Data Loading"
      ],
      "metadata": {
        "collapsed": false,
        "id": "6e40d6444e3af9d"
      },
      "id": "6e40d6444e3af9d"
    },
    {
      "cell_type": "code",
      "execution_count": null,
      "outputs": [],
      "source": [
        "#df = pd.read_csv('./data/primary_clinical_radiomic_features/complete_clinical_radiomic_features_20220510.csv')\n",
        "df = pd.read_csv('./complete_clinical_radiomic_features_20220510.csv')"
      ],
      "metadata": {
        "ExecuteTime": {
          "end_time": "2023-09-18T20:57:53.139218100Z",
          "start_time": "2023-09-18T20:57:53.107595600Z"
        },
        "id": "318cdd1bcddc5b2e"
      },
      "id": "318cdd1bcddc5b2e"
    },
    {
      "cell_type": "markdown",
      "source": [
        "## Data Exploration"
      ],
      "metadata": {
        "collapsed": false,
        "id": "24fbb289d0b41ab3"
      },
      "id": "24fbb289d0b41ab3"
    },
    {
      "cell_type": "code",
      "execution_count": null,
      "outputs": [
        {
          "output_type": "execute_result",
          "data": {
            "text/plain": [
              "(175, 655)"
            ]
          },
          "metadata": {},
          "execution_count": 3
        }
      ],
      "source": [
        "df.shape"
      ],
      "metadata": {
        "ExecuteTime": {
          "end_time": "2023-09-18T20:57:53.680992800Z",
          "start_time": "2023-09-18T20:57:53.671628900Z"
        },
        "colab": {
          "base_uri": "https://localhost:8080/"
        },
        "id": "cdea686249173d86",
        "outputId": "9b055e73-bd3a-4bb8-ed7b-6ddcf5637b96"
      },
      "id": "cdea686249173d86"
    },
    {
      "cell_type": "code",
      "execution_count": null,
      "outputs": [
        {
          "output_type": "execute_result",
          "data": {
            "text/plain": [
              "        MRN  Primary_Recurrence  hpv_total  Clinical N Stage  \\\n",
              "0  94608596                 0.0          1                 1   \n",
              "1  94685469                 0.0          1                 2   \n",
              "2  93724579                 0.0          1                 0   \n",
              "3  94659105                 0.0          1                 1   \n",
              "4  93391511                 0.0          0                 0   \n",
              "\n",
              "   Clinical T Stage  Concurrent Chemo Regimen_cat_4  Treatment Laterality  \\\n",
              "0                 3                               0                     2   \n",
              "1                 4                               0                     2   \n",
              "2                 3                               0                     2   \n",
              "3                 2                               0                     2   \n",
              "4                 3                               0                     2   \n",
              "\n",
              "   pack_year_strat  tx_duration_strat  Disease Site_cat_0  ...  \\\n",
              "0                2                  0                   0  ...   \n",
              "1                2                  1                   0  ...   \n",
              "2                2                  0                   0  ...   \n",
              "3                0                  0                   0  ...   \n",
              "4                1                  0                   1  ...   \n",
              "\n",
              "   original_glszm_SmallAreaHighGrayLevelEmphasis-ct_diff  \\\n",
              "0                                           0.263881       \n",
              "1                                           0.185490       \n",
              "2                                           0.548389       \n",
              "3                                           0.447048       \n",
              "4                                          -0.103750       \n",
              "\n",
              "   original_glszm_SmallAreaLowGrayLevelEmphasis-ct_diff  \\\n",
              "0                                          -0.821938      \n",
              "1                                          -1.211781      \n",
              "2                                          -1.841186      \n",
              "3                                          -0.907776      \n",
              "4                                           0.381798      \n",
              "\n",
              "   original_glszm_ZoneEntropy-ct_diff  original_glszm_ZonePercentage-ct_diff  \\\n",
              "0                            0.009144                              -0.127575   \n",
              "1                            0.015916                              -0.133305   \n",
              "2                            0.042348                              -0.494975   \n",
              "3                            0.064297                              -0.135727   \n",
              "4                           -0.003017                               0.474527   \n",
              "\n",
              "   original_glszm_ZoneVariance-ct_diff  original_ngtdm_Busyness-ct_diff  \\\n",
              "0                             0.164118                        -0.397751   \n",
              "1                             0.191036                         0.070698   \n",
              "2                             0.349844                        -0.694662   \n",
              "3                            -0.275819                        -0.488918   \n",
              "4                            -2.022937                         0.252527   \n",
              "\n",
              "   original_ngtdm_Coarseness-ct_diff  original_ngtdm_Complexity-ct_diff  \\\n",
              "0                           0.109260                           0.221093   \n",
              "1                          -0.335800                           0.121717   \n",
              "2                           0.123868                           0.336382   \n",
              "3                           0.131763                           0.447150   \n",
              "4                          -0.174755                           0.366038   \n",
              "\n",
              "   original_ngtdm_Contrast-ct_diff  original_ngtdm_Strength-ct_diff  \n",
              "0                        -1.721071                         0.585230  \n",
              "1                        -4.346959                        -0.011635  \n",
              "2                       -10.307440                         0.603565  \n",
              "3                        -0.953653                         0.384193  \n",
              "4                         0.708984                        -1.060524  \n",
              "\n",
              "[5 rows x 655 columns]"
            ],
            "text/html": [
              "\n",
              "  <div id=\"df-c38810dd-6220-4ade-9148-369aab4594a9\" class=\"colab-df-container\">\n",
              "    <div>\n",
              "<style scoped>\n",
              "    .dataframe tbody tr th:only-of-type {\n",
              "        vertical-align: middle;\n",
              "    }\n",
              "\n",
              "    .dataframe tbody tr th {\n",
              "        vertical-align: top;\n",
              "    }\n",
              "\n",
              "    .dataframe thead th {\n",
              "        text-align: right;\n",
              "    }\n",
              "</style>\n",
              "<table border=\"1\" class=\"dataframe\">\n",
              "  <thead>\n",
              "    <tr style=\"text-align: right;\">\n",
              "      <th></th>\n",
              "      <th>MRN</th>\n",
              "      <th>Primary_Recurrence</th>\n",
              "      <th>hpv_total</th>\n",
              "      <th>Clinical N Stage</th>\n",
              "      <th>Clinical T Stage</th>\n",
              "      <th>Concurrent Chemo Regimen_cat_4</th>\n",
              "      <th>Treatment Laterality</th>\n",
              "      <th>pack_year_strat</th>\n",
              "      <th>tx_duration_strat</th>\n",
              "      <th>Disease Site_cat_0</th>\n",
              "      <th>...</th>\n",
              "      <th>original_glszm_SmallAreaHighGrayLevelEmphasis-ct_diff</th>\n",
              "      <th>original_glszm_SmallAreaLowGrayLevelEmphasis-ct_diff</th>\n",
              "      <th>original_glszm_ZoneEntropy-ct_diff</th>\n",
              "      <th>original_glszm_ZonePercentage-ct_diff</th>\n",
              "      <th>original_glszm_ZoneVariance-ct_diff</th>\n",
              "      <th>original_ngtdm_Busyness-ct_diff</th>\n",
              "      <th>original_ngtdm_Coarseness-ct_diff</th>\n",
              "      <th>original_ngtdm_Complexity-ct_diff</th>\n",
              "      <th>original_ngtdm_Contrast-ct_diff</th>\n",
              "      <th>original_ngtdm_Strength-ct_diff</th>\n",
              "    </tr>\n",
              "  </thead>\n",
              "  <tbody>\n",
              "    <tr>\n",
              "      <th>0</th>\n",
              "      <td>94608596</td>\n",
              "      <td>0.0</td>\n",
              "      <td>1</td>\n",
              "      <td>1</td>\n",
              "      <td>3</td>\n",
              "      <td>0</td>\n",
              "      <td>2</td>\n",
              "      <td>2</td>\n",
              "      <td>0</td>\n",
              "      <td>0</td>\n",
              "      <td>...</td>\n",
              "      <td>0.263881</td>\n",
              "      <td>-0.821938</td>\n",
              "      <td>0.009144</td>\n",
              "      <td>-0.127575</td>\n",
              "      <td>0.164118</td>\n",
              "      <td>-0.397751</td>\n",
              "      <td>0.109260</td>\n",
              "      <td>0.221093</td>\n",
              "      <td>-1.721071</td>\n",
              "      <td>0.585230</td>\n",
              "    </tr>\n",
              "    <tr>\n",
              "      <th>1</th>\n",
              "      <td>94685469</td>\n",
              "      <td>0.0</td>\n",
              "      <td>1</td>\n",
              "      <td>2</td>\n",
              "      <td>4</td>\n",
              "      <td>0</td>\n",
              "      <td>2</td>\n",
              "      <td>2</td>\n",
              "      <td>1</td>\n",
              "      <td>0</td>\n",
              "      <td>...</td>\n",
              "      <td>0.185490</td>\n",
              "      <td>-1.211781</td>\n",
              "      <td>0.015916</td>\n",
              "      <td>-0.133305</td>\n",
              "      <td>0.191036</td>\n",
              "      <td>0.070698</td>\n",
              "      <td>-0.335800</td>\n",
              "      <td>0.121717</td>\n",
              "      <td>-4.346959</td>\n",
              "      <td>-0.011635</td>\n",
              "    </tr>\n",
              "    <tr>\n",
              "      <th>2</th>\n",
              "      <td>93724579</td>\n",
              "      <td>0.0</td>\n",
              "      <td>1</td>\n",
              "      <td>0</td>\n",
              "      <td>3</td>\n",
              "      <td>0</td>\n",
              "      <td>2</td>\n",
              "      <td>2</td>\n",
              "      <td>0</td>\n",
              "      <td>0</td>\n",
              "      <td>...</td>\n",
              "      <td>0.548389</td>\n",
              "      <td>-1.841186</td>\n",
              "      <td>0.042348</td>\n",
              "      <td>-0.494975</td>\n",
              "      <td>0.349844</td>\n",
              "      <td>-0.694662</td>\n",
              "      <td>0.123868</td>\n",
              "      <td>0.336382</td>\n",
              "      <td>-10.307440</td>\n",
              "      <td>0.603565</td>\n",
              "    </tr>\n",
              "    <tr>\n",
              "      <th>3</th>\n",
              "      <td>94659105</td>\n",
              "      <td>0.0</td>\n",
              "      <td>1</td>\n",
              "      <td>1</td>\n",
              "      <td>2</td>\n",
              "      <td>0</td>\n",
              "      <td>2</td>\n",
              "      <td>0</td>\n",
              "      <td>0</td>\n",
              "      <td>0</td>\n",
              "      <td>...</td>\n",
              "      <td>0.447048</td>\n",
              "      <td>-0.907776</td>\n",
              "      <td>0.064297</td>\n",
              "      <td>-0.135727</td>\n",
              "      <td>-0.275819</td>\n",
              "      <td>-0.488918</td>\n",
              "      <td>0.131763</td>\n",
              "      <td>0.447150</td>\n",
              "      <td>-0.953653</td>\n",
              "      <td>0.384193</td>\n",
              "    </tr>\n",
              "    <tr>\n",
              "      <th>4</th>\n",
              "      <td>93391511</td>\n",
              "      <td>0.0</td>\n",
              "      <td>0</td>\n",
              "      <td>0</td>\n",
              "      <td>3</td>\n",
              "      <td>0</td>\n",
              "      <td>2</td>\n",
              "      <td>1</td>\n",
              "      <td>0</td>\n",
              "      <td>1</td>\n",
              "      <td>...</td>\n",
              "      <td>-0.103750</td>\n",
              "      <td>0.381798</td>\n",
              "      <td>-0.003017</td>\n",
              "      <td>0.474527</td>\n",
              "      <td>-2.022937</td>\n",
              "      <td>0.252527</td>\n",
              "      <td>-0.174755</td>\n",
              "      <td>0.366038</td>\n",
              "      <td>0.708984</td>\n",
              "      <td>-1.060524</td>\n",
              "    </tr>\n",
              "  </tbody>\n",
              "</table>\n",
              "<p>5 rows × 655 columns</p>\n",
              "</div>\n",
              "    <div class=\"colab-df-buttons\">\n",
              "\n",
              "  <div class=\"colab-df-container\">\n",
              "    <button class=\"colab-df-convert\" onclick=\"convertToInteractive('df-c38810dd-6220-4ade-9148-369aab4594a9')\"\n",
              "            title=\"Convert this dataframe to an interactive table.\"\n",
              "            style=\"display:none;\">\n",
              "\n",
              "  <svg xmlns=\"http://www.w3.org/2000/svg\" height=\"24px\" viewBox=\"0 -960 960 960\">\n",
              "    <path d=\"M120-120v-720h720v720H120Zm60-500h600v-160H180v160Zm220 220h160v-160H400v160Zm0 220h160v-160H400v160ZM180-400h160v-160H180v160Zm440 0h160v-160H620v160ZM180-180h160v-160H180v160Zm440 0h160v-160H620v160Z\"/>\n",
              "  </svg>\n",
              "    </button>\n",
              "\n",
              "  <style>\n",
              "    .colab-df-container {\n",
              "      display:flex;\n",
              "      gap: 12px;\n",
              "    }\n",
              "\n",
              "    .colab-df-convert {\n",
              "      background-color: #E8F0FE;\n",
              "      border: none;\n",
              "      border-radius: 50%;\n",
              "      cursor: pointer;\n",
              "      display: none;\n",
              "      fill: #1967D2;\n",
              "      height: 32px;\n",
              "      padding: 0 0 0 0;\n",
              "      width: 32px;\n",
              "    }\n",
              "\n",
              "    .colab-df-convert:hover {\n",
              "      background-color: #E2EBFA;\n",
              "      box-shadow: 0px 1px 2px rgba(60, 64, 67, 0.3), 0px 1px 3px 1px rgba(60, 64, 67, 0.15);\n",
              "      fill: #174EA6;\n",
              "    }\n",
              "\n",
              "    .colab-df-buttons div {\n",
              "      margin-bottom: 4px;\n",
              "    }\n",
              "\n",
              "    [theme=dark] .colab-df-convert {\n",
              "      background-color: #3B4455;\n",
              "      fill: #D2E3FC;\n",
              "    }\n",
              "\n",
              "    [theme=dark] .colab-df-convert:hover {\n",
              "      background-color: #434B5C;\n",
              "      box-shadow: 0px 1px 3px 1px rgba(0, 0, 0, 0.15);\n",
              "      filter: drop-shadow(0px 1px 2px rgba(0, 0, 0, 0.3));\n",
              "      fill: #FFFFFF;\n",
              "    }\n",
              "  </style>\n",
              "\n",
              "    <script>\n",
              "      const buttonEl =\n",
              "        document.querySelector('#df-c38810dd-6220-4ade-9148-369aab4594a9 button.colab-df-convert');\n",
              "      buttonEl.style.display =\n",
              "        google.colab.kernel.accessAllowed ? 'block' : 'none';\n",
              "\n",
              "      async function convertToInteractive(key) {\n",
              "        const element = document.querySelector('#df-c38810dd-6220-4ade-9148-369aab4594a9');\n",
              "        const dataTable =\n",
              "          await google.colab.kernel.invokeFunction('convertToInteractive',\n",
              "                                                    [key], {});\n",
              "        if (!dataTable) return;\n",
              "\n",
              "        const docLinkHtml = 'Like what you see? Visit the ' +\n",
              "          '<a target=\"_blank\" href=https://colab.research.google.com/notebooks/data_table.ipynb>data table notebook</a>'\n",
              "          + ' to learn more about interactive tables.';\n",
              "        element.innerHTML = '';\n",
              "        dataTable['output_type'] = 'display_data';\n",
              "        await google.colab.output.renderOutput(dataTable, element);\n",
              "        const docLink = document.createElement('div');\n",
              "        docLink.innerHTML = docLinkHtml;\n",
              "        element.appendChild(docLink);\n",
              "      }\n",
              "    </script>\n",
              "  </div>\n",
              "\n",
              "\n",
              "<div id=\"df-9e49d3fc-6fd9-471b-91ba-42226bda9af2\">\n",
              "  <button class=\"colab-df-quickchart\" onclick=\"quickchart('df-9e49d3fc-6fd9-471b-91ba-42226bda9af2')\"\n",
              "            title=\"Suggest charts.\"\n",
              "            style=\"display:none;\">\n",
              "\n",
              "<svg xmlns=\"http://www.w3.org/2000/svg\" height=\"24px\"viewBox=\"0 0 24 24\"\n",
              "     width=\"24px\">\n",
              "    <g>\n",
              "        <path d=\"M19 3H5c-1.1 0-2 .9-2 2v14c0 1.1.9 2 2 2h14c1.1 0 2-.9 2-2V5c0-1.1-.9-2-2-2zM9 17H7v-7h2v7zm4 0h-2V7h2v10zm4 0h-2v-4h2v4z\"/>\n",
              "    </g>\n",
              "</svg>\n",
              "  </button>\n",
              "\n",
              "<style>\n",
              "  .colab-df-quickchart {\n",
              "      --bg-color: #E8F0FE;\n",
              "      --fill-color: #1967D2;\n",
              "      --hover-bg-color: #E2EBFA;\n",
              "      --hover-fill-color: #174EA6;\n",
              "      --disabled-fill-color: #AAA;\n",
              "      --disabled-bg-color: #DDD;\n",
              "  }\n",
              "\n",
              "  [theme=dark] .colab-df-quickchart {\n",
              "      --bg-color: #3B4455;\n",
              "      --fill-color: #D2E3FC;\n",
              "      --hover-bg-color: #434B5C;\n",
              "      --hover-fill-color: #FFFFFF;\n",
              "      --disabled-bg-color: #3B4455;\n",
              "      --disabled-fill-color: #666;\n",
              "  }\n",
              "\n",
              "  .colab-df-quickchart {\n",
              "    background-color: var(--bg-color);\n",
              "    border: none;\n",
              "    border-radius: 50%;\n",
              "    cursor: pointer;\n",
              "    display: none;\n",
              "    fill: var(--fill-color);\n",
              "    height: 32px;\n",
              "    padding: 0;\n",
              "    width: 32px;\n",
              "  }\n",
              "\n",
              "  .colab-df-quickchart:hover {\n",
              "    background-color: var(--hover-bg-color);\n",
              "    box-shadow: 0 1px 2px rgba(60, 64, 67, 0.3), 0 1px 3px 1px rgba(60, 64, 67, 0.15);\n",
              "    fill: var(--button-hover-fill-color);\n",
              "  }\n",
              "\n",
              "  .colab-df-quickchart-complete:disabled,\n",
              "  .colab-df-quickchart-complete:disabled:hover {\n",
              "    background-color: var(--disabled-bg-color);\n",
              "    fill: var(--disabled-fill-color);\n",
              "    box-shadow: none;\n",
              "  }\n",
              "\n",
              "  .colab-df-spinner {\n",
              "    border: 2px solid var(--fill-color);\n",
              "    border-color: transparent;\n",
              "    border-bottom-color: var(--fill-color);\n",
              "    animation:\n",
              "      spin 1s steps(1) infinite;\n",
              "  }\n",
              "\n",
              "  @keyframes spin {\n",
              "    0% {\n",
              "      border-color: transparent;\n",
              "      border-bottom-color: var(--fill-color);\n",
              "      border-left-color: var(--fill-color);\n",
              "    }\n",
              "    20% {\n",
              "      border-color: transparent;\n",
              "      border-left-color: var(--fill-color);\n",
              "      border-top-color: var(--fill-color);\n",
              "    }\n",
              "    30% {\n",
              "      border-color: transparent;\n",
              "      border-left-color: var(--fill-color);\n",
              "      border-top-color: var(--fill-color);\n",
              "      border-right-color: var(--fill-color);\n",
              "    }\n",
              "    40% {\n",
              "      border-color: transparent;\n",
              "      border-right-color: var(--fill-color);\n",
              "      border-top-color: var(--fill-color);\n",
              "    }\n",
              "    60% {\n",
              "      border-color: transparent;\n",
              "      border-right-color: var(--fill-color);\n",
              "    }\n",
              "    80% {\n",
              "      border-color: transparent;\n",
              "      border-right-color: var(--fill-color);\n",
              "      border-bottom-color: var(--fill-color);\n",
              "    }\n",
              "    90% {\n",
              "      border-color: transparent;\n",
              "      border-bottom-color: var(--fill-color);\n",
              "    }\n",
              "  }\n",
              "</style>\n",
              "\n",
              "  <script>\n",
              "    async function quickchart(key) {\n",
              "      const quickchartButtonEl =\n",
              "        document.querySelector('#' + key + ' button');\n",
              "      quickchartButtonEl.disabled = true;  // To prevent multiple clicks.\n",
              "      quickchartButtonEl.classList.add('colab-df-spinner');\n",
              "      try {\n",
              "        const charts = await google.colab.kernel.invokeFunction(\n",
              "            'suggestCharts', [key], {});\n",
              "      } catch (error) {\n",
              "        console.error('Error during call to suggestCharts:', error);\n",
              "      }\n",
              "      quickchartButtonEl.classList.remove('colab-df-spinner');\n",
              "      quickchartButtonEl.classList.add('colab-df-quickchart-complete');\n",
              "    }\n",
              "    (() => {\n",
              "      let quickchartButtonEl =\n",
              "        document.querySelector('#df-9e49d3fc-6fd9-471b-91ba-42226bda9af2 button');\n",
              "      quickchartButtonEl.style.display =\n",
              "        google.colab.kernel.accessAllowed ? 'block' : 'none';\n",
              "    })();\n",
              "  </script>\n",
              "</div>\n",
              "    </div>\n",
              "  </div>\n"
            ]
          },
          "metadata": {},
          "execution_count": 4
        }
      ],
      "source": [
        "df.head()"
      ],
      "metadata": {
        "ExecuteTime": {
          "end_time": "2023-09-18T20:57:55.699883900Z",
          "start_time": "2023-09-18T20:57:55.692810600Z"
        },
        "colab": {
          "base_uri": "https://localhost:8080/",
          "height": 290
        },
        "id": "1880601150a98401",
        "outputId": "f2af1bd1-91bc-4474-d772-41d0e6227bc2"
      },
      "id": "1880601150a98401"
    },
    {
      "cell_type": "code",
      "execution_count": null,
      "outputs": [],
      "source": [
        "df['Primary_Recurrence'] = df['Primary_Recurrence'].astype(int)"
      ],
      "metadata": {
        "ExecuteTime": {
          "end_time": "2023-09-18T17:39:38.328439800Z",
          "start_time": "2023-09-18T17:39:38.304808300Z"
        },
        "id": "f0d77cacac32f373"
      },
      "id": "f0d77cacac32f373"
    },
    {
      "cell_type": "code",
      "execution_count": null,
      "outputs": [
        {
          "output_type": "execute_result",
          "data": {
            "text/plain": [
              "float64    643\n",
              "int64       12\n",
              "dtype: int64"
            ]
          },
          "metadata": {},
          "execution_count": 6
        }
      ],
      "source": [
        "df.dtypes.value_counts()"
      ],
      "metadata": {
        "ExecuteTime": {
          "end_time": "2023-09-18T17:39:38.511315500Z",
          "start_time": "2023-09-18T17:39:38.505226Z"
        },
        "colab": {
          "base_uri": "https://localhost:8080/"
        },
        "id": "a3496c88c1e8f7e7",
        "outputId": "f6554288-72fb-4da1-f4bd-2e036d99df59"
      },
      "id": "a3496c88c1e8f7e7"
    },
    {
      "cell_type": "markdown",
      "source": [
        "#### Check for missing values"
      ],
      "metadata": {
        "collapsed": false,
        "id": "f509c3c2934fb17"
      },
      "id": "f509c3c2934fb17"
    },
    {
      "cell_type": "code",
      "execution_count": null,
      "outputs": [
        {
          "output_type": "stream",
          "name": "stdout",
          "text": [
            "Total missing values in the data set:  0\n",
            "No further actions for missing data needed.\n"
          ]
        }
      ],
      "source": [
        "print('Total missing values in the data set: ', sum(df.isnull().sum()))\n",
        "print('No further actions for missing data needed.')"
      ],
      "metadata": {
        "ExecuteTime": {
          "end_time": "2023-09-18T16:29:14.906162900Z",
          "start_time": "2023-09-18T16:29:14.889928700Z"
        },
        "colab": {
          "base_uri": "https://localhost:8080/"
        },
        "id": "2686338b54573168",
        "outputId": "eca16eeb-3de0-4993-a913-34d085521da6"
      },
      "id": "2686338b54573168"
    },
    {
      "cell_type": "markdown",
      "source": [
        "#### Plot labels to see if the data set is unbalanced"
      ],
      "metadata": {
        "collapsed": false,
        "id": "ff649afda8152ffb"
      },
      "id": "ff649afda8152ffb"
    },
    {
      "cell_type": "code",
      "execution_count": null,
      "outputs": [
        {
          "output_type": "display_data",
          "data": {
            "text/plain": [
              "<Figure size 640x480 with 1 Axes>"
            ],
            "image/png": "[encoded data removed]"
          },
          "metadata": {}
        }
      ],
      "source": [
        "Primary_Recurrence_count = df['Primary_Recurrence'].value_counts()\n",
        "\n",
        "plt.bar(Primary_Recurrence_count.index, Primary_Recurrence_count.values)\n",
        "plt.xlabel('Primary_Recurrence')\n",
        "plt.ylabel('Count')\n",
        "plt.title('Bar Plot of Primary_Recurrence')\n",
        "plt.xticks(list(map(int, Primary_Recurrence_count.index)))\n",
        "plt.show()"
      ],
      "metadata": {
        "ExecuteTime": {
          "end_time": "2023-09-18T17:39:53.140240900Z",
          "start_time": "2023-09-18T17:39:53.085366Z"
        },
        "colab": {
          "base_uri": "https://localhost:8080/",
          "height": 472
        },
        "id": "f4f29b3ec4225f85",
        "outputId": "582ede61-9a5a-4fed-f570-e4492c929f99"
      },
      "id": "f4f29b3ec4225f85"
    },
    {
      "cell_type": "markdown",
      "source": [
        "## Data Transformation\n",
        "#### Encode categorical variables"
      ],
      "metadata": {
        "collapsed": false,
        "id": "47935d2803725974"
      },
      "id": "47935d2803725974"
    },
    {
      "cell_type": "code",
      "execution_count": null,
      "outputs": [],
      "source": [
        "category_var_as_int = ['hpv_total', 'Clinical N Stage', 'Clinical T Stage', 'Treatment Laterality', 'pack_year_strat', 'tx_duration_strat']\n",
        "\n",
        "for column in category_var_as_int:\n",
        "    df = pd.get_dummies(df, columns=[column], prefix=[column])"
      ],
      "metadata": {
        "ExecuteTime": {
          "end_time": "2023-09-18T21:24:16.423033700Z",
          "start_time": "2023-09-18T21:24:16.380298Z"
        },
        "id": "b5f7247079b8871a"
      },
      "id": "b5f7247079b8871a"
    },
    {
      "cell_type": "markdown",
      "source": [
        "#### Scale numerical features"
      ],
      "metadata": {
        "collapsed": false,
        "id": "626743249fc8f8c5"
      },
      "id": "626743249fc8f8c5"
    },
    {
      "cell_type": "code",
      "execution_count": null,
      "outputs": [],
      "source": [
        "from sklearn.preprocessing import MinMaxScaler\n",
        "\n",
        "numerical_features = df.select_dtypes(include = ['float64'])\n",
        "\n",
        "scaler = MinMaxScaler()\n",
        "normalized_features = scaler.fit_transform(numerical_features)\n",
        "df[numerical_features.columns] = normalized_features"
      ],
      "metadata": {
        "ExecuteTime": {
          "end_time": "2023-09-18T21:00:26.132724100Z",
          "start_time": "2023-09-18T21:00:26.101392200Z"
        },
        "id": "1bfb5bd296ee0169"
      },
      "id": "1bfb5bd296ee0169"
    },
    {
      "cell_type": "markdown",
      "source": [
        "#### Distinguish predictors and outcomes"
      ],
      "metadata": {
        "collapsed": false,
        "id": "c6202012b2c1e87d"
      },
      "id": "c6202012b2c1e87d"
    },
    {
      "cell_type": "code",
      "execution_count": null,
      "outputs": [],
      "source": [
        "X = df.drop(columns = ['MRN', 'Primary_Recurrence'])\n",
        "y = df['Primary_Recurrence']"
      ],
      "metadata": {
        "ExecuteTime": {
          "end_time": "2023-09-18T21:00:27.184826500Z",
          "start_time": "2023-09-18T21:00:27.175265600Z"
        },
        "id": "2d8d18644f7317bc"
      },
      "id": "2d8d18644f7317bc"
    },
    {
      "cell_type": "markdown",
      "source": [
        "## Data Splitting"
      ],
      "metadata": {
        "collapsed": false,
        "id": "1a8a347e8d536b5e"
      },
      "id": "1a8a347e8d536b5e"
    },
    {
      "cell_type": "code",
      "execution_count": null,
      "outputs": [],
      "source": [
        "from sklearn.model_selection import train_test_split\n",
        "\n",
        "random_state = np.random.randint(1000)\n",
        "# Split the data in a 60-20-20 fashion\n",
        "X_train, X_temp, y_train, y_temp = train_test_split(X, y, test_size = 0.4, random_state = random_state)\n",
        "X_val, X_test, y_val, y_test = train_test_split(X_temp, y_temp, test_size = 0.5, random_state = random_state)"
      ],
      "metadata": {
        "ExecuteTime": {
          "end_time": "2023-09-18T21:36:37.731256800Z",
          "start_time": "2023-09-18T21:36:37.724840400Z"
        },
        "id": "cc58f9a841e20533"
      },
      "id": "cc58f9a841e20533"
    },
    {
      "cell_type": "markdown",
      "source": [
        "## Feature Selection"
      ],
      "metadata": {
        "collapsed": false,
        "id": "2173a92673c1de84"
      },
      "id": "2173a92673c1de84"
    },
    {
      "cell_type": "code",
      "execution_count": null,
      "outputs": [],
      "source": [
        "num_features_to_select = 30"
      ],
      "metadata": {
        "ExecuteTime": {
          "end_time": "2023-09-18T21:27:06.589172700Z",
          "start_time": "2023-09-18T21:27:06.583419Z"
        },
        "id": "d7d723af1a6a81c9"
      },
      "id": "d7d723af1a6a81c9"
    },
    {
      "cell_type": "markdown",
      "source": [
        "#### 1. using RFE"
      ],
      "metadata": {
        "collapsed": false,
        "id": "351eaf81a40e60ef"
      },
      "id": "351eaf81a40e60ef"
    },
    {
      "cell_type": "code",
      "execution_count": null,
      "outputs": [],
      "source": [
        "from sklearn.feature_selection import RFE\n",
        "from sklearn.linear_model import LogisticRegression\n",
        "\n",
        "# Temporarily using the Logistic regression model\n",
        "REF_LR_model = LogisticRegression(max_iter = 1000)\n",
        "\n",
        "rfe_selector = RFE(estimator = REF_LR_model, n_features_to_select = num_features_to_select)\n",
        "\n",
        "rfe_selector.fit(X, y)\n",
        "\n",
        "selected_features1 = rfe_selector.support_"
      ],
      "metadata": {
        "ExecuteTime": {
          "end_time": "2023-09-18T21:27:17.072177600Z",
          "start_time": "2023-09-18T21:27:06.966387700Z"
        },
        "id": "b1c08611dac2bfd"
      },
      "id": "b1c08611dac2bfd"
    },
    {
      "cell_type": "code",
      "execution_count": null,
      "outputs": [
        {
          "output_type": "stream",
          "name": "stdout",
          "text": [
            "Selected Features:\n",
            "Index(['original_shape_Maximum2DDiameterRow-pet_postrt',\n",
            "       'original_shape_MinorAxisLength-pet_postrt',\n",
            "       'original_gldm_DependenceNonUniformity-pet_postrt',\n",
            "       'original_glrlm_ShortRunEmphasis-pet_postrt',\n",
            "       'original_glszm_GrayLevelNonUniformity-pet_postrt',\n",
            "       'original_shape_MajorAxisLength-pet_prert',\n",
            "       'original_shape_Maximum2DDiameterSlice-pet_prert',\n",
            "       'original_firstorder_Kurtosis-pet_prert',\n",
            "       'original_shape_Maximum2DDiameterColumn-ct_postrt',\n",
            "       'original_shape_Maximum2DDiameterRow-ct_postrt',\n",
            "       'original_shape_MinorAxisLength-ct_postrt',\n",
            "       'original_firstorder_10Percentile-ct_postrt',\n",
            "       'original_firstorder_Mean-ct_postrt',\n",
            "       'original_gldm_LowGrayLevelEmphasis-ct_postrt',\n",
            "       'original_gldm_SmallDependenceLowGrayLevelEmphasis-ct_postrt',\n",
            "       'original_glrlm_ShortRunLowGrayLevelEmphasis-ct_postrt',\n",
            "       'original_glszm_HighGrayLevelZoneEmphasis-ct_postrt',\n",
            "       'original_glszm_LargeAreaHighGrayLevelEmphasis-ct_postrt',\n",
            "       'original_glszm_ZoneEntropy-ct_postrt',\n",
            "       'original_shape_MajorAxisLength-ct_prert',\n",
            "       'original_firstorder_10Percentile-ct_prert',\n",
            "       'original_glszm_HighGrayLevelZoneEmphasis-ct_prert',\n",
            "       'original_glszm_SmallAreaHighGrayLevelEmphasis-ct_prert',\n",
            "       'original_glcm_Idmn-pet_diff', 'original_glcm_Idn-pet_diff',\n",
            "       'original_glcm_Correlation-ct_diff',\n",
            "       'original_glszm_SmallAreaLowGrayLevelEmphasis-ct_diff', 'hpv_total_1',\n",
            "       'Clinical N Stage_2', 'Clinical T Stage_3'],\n",
            "      dtype='object')\n"
          ]
        }
      ],
      "source": [
        "print(\"Selected Features:\")\n",
        "selected_features1_index = X.columns[selected_features1 == True]\n",
        "print(selected_features1_index)"
      ],
      "metadata": {
        "ExecuteTime": {
          "end_time": "2023-09-18T21:27:17.072682400Z",
          "start_time": "2023-09-18T21:27:17.072682400Z"
        },
        "colab": {
          "base_uri": "https://localhost:8080/"
        },
        "id": "4a6770e657c13f48",
        "outputId": "23f9be2d-5d00-4ef2-e7b2-4e68b7d3540d"
      },
      "id": "4a6770e657c13f48"
    },
    {
      "cell_type": "markdown",
      "source": [
        "#### 2. using LASSO"
      ],
      "metadata": {
        "collapsed": false,
        "id": "9e5dbb8fe7284974"
      },
      "id": "9e5dbb8fe7284974"
    },
    {
      "cell_type": "code",
      "execution_count": null,
      "outputs": [
        {
          "output_type": "stream",
          "name": "stdout",
          "text": [
            "i =  161\n"
          ]
        }
      ],
      "source": [
        "from sklearn.linear_model import Lasso\n",
        "\n",
        "alphas = np.logspace(4, -4, 200)\n",
        "\n",
        "# Use a loop to find a model that keeps the desired number of predictors\n",
        "num_of_predictors = 0\n",
        "i = 0\n",
        "\n",
        "while num_of_predictors <= num_features_to_select:\n",
        "    # create a Lasso model for feature selection\n",
        "    lasso_selector = Lasso(alpha = alphas[i], max_iter = 10000)\n",
        "\n",
        "    lasso_selector.fit(X, y)\n",
        "\n",
        "    selected_features2 = lasso_selector.coef_ != 0\n",
        "\n",
        "    num_of_predictors = sum(selected_features2)\n",
        "    i += 1\n",
        "\n",
        "print('i = ', i)"
      ],
      "metadata": {
        "ExecuteTime": {
          "end_time": "2023-09-18T21:27:17.342773100Z",
          "start_time": "2023-09-18T21:27:17.072682400Z"
        },
        "colab": {
          "base_uri": "https://localhost:8080/"
        },
        "id": "d1dc1d2e85d73943",
        "outputId": "89cd6a0c-4aab-4424-f62c-92bb8f926880"
      },
      "id": "d1dc1d2e85d73943"
    },
    {
      "cell_type": "code",
      "execution_count": null,
      "outputs": [
        {
          "output_type": "stream",
          "name": "stdout",
          "text": [
            "Selected Features:\n",
            "Index(['Age at Diagnosis', 'original_shape_MinorAxisLength-pet_postrt',\n",
            "       'original_firstorder_Minimum-pet_postrt',\n",
            "       'original_gldm_DependenceNonUniformity-pet_postrt',\n",
            "       'original_glszm_GrayLevelNonUniformity-pet_postrt',\n",
            "       'original_shape_Maximum2DDiameterSlice-pet_prert',\n",
            "       'original_shape_SurfaceArea-pet_prert',\n",
            "       'original_firstorder_Kurtosis-pet_prert',\n",
            "       'original_shape_Maximum2DDiameterRow-ct_postrt',\n",
            "       'original_shape_MinorAxisLength-ct_postrt',\n",
            "       'original_firstorder_10Percentile-ct_postrt',\n",
            "       'original_firstorder_90Percentile-ct_postrt',\n",
            "       'original_gldm_LargeDependenceLowGrayLevelEmphasis-ct_postrt',\n",
            "       'original_gldm_SmallDependenceLowGrayLevelEmphasis-ct_postrt',\n",
            "       'original_glszm_HighGrayLevelZoneEmphasis-ct_postrt',\n",
            "       'original_glszm_LargeAreaHighGrayLevelEmphasis-ct_postrt',\n",
            "       'original_glszm_SizeZoneNonUniformityNormalized-ct_postrt',\n",
            "       'original_shape_SurfaceArea-ct_prert',\n",
            "       'original_firstorder_10Percentile-ct_prert',\n",
            "       'original_gldm_GrayLevelNonUniformity-ct_prert',\n",
            "       'original_glszm_HighGrayLevelZoneEmphasis-ct_prert',\n",
            "       'original_firstorder_Kurtosis-pet_diff', 'original_glcm_Idn-pet_diff',\n",
            "       'original_glcm_Correlation-ct_diff',\n",
            "       'original_gldm_DependenceNonUniformityNormalized-ct_diff',\n",
            "       'original_glszm_SmallAreaLowGrayLevelEmphasis-ct_diff', 'hpv_total_1',\n",
            "       'Clinical N Stage_0', 'Clinical N Stage_1', 'Clinical N Stage_2',\n",
            "       'Clinical T Stage_2', 'Clinical T Stage_3', 'Clinical T Stage_4',\n",
            "       'pack_year_strat_0'],\n",
            "      dtype='object')\n"
          ]
        }
      ],
      "source": [
        "print(\"Selected Features:\")\n",
        "selected_features2_index = X.columns[selected_features2 == True]\n",
        "print(selected_features2_index)"
      ],
      "metadata": {
        "ExecuteTime": {
          "end_time": "2023-09-18T21:27:17.343348100Z",
          "start_time": "2023-09-18T21:27:17.339248200Z"
        },
        "colab": {
          "base_uri": "https://localhost:8080/"
        },
        "id": "c255d0be72655165",
        "outputId": "0f6b6821-1d02-467b-ea58-2662991e9e67"
      },
      "id": "c255d0be72655165"
    },
    {
      "cell_type": "markdown",
      "source": [
        "#### 3. using univariate LR + Pearson coefficient"
      ],
      "metadata": {
        "collapsed": false,
        "id": "fb2bae2cdce5f277"
      },
      "id": "fb2bae2cdce5f277"
    },
    {
      "cell_type": "code",
      "execution_count": null,
      "outputs": [],
      "source": [
        "# Calculate Pearson correlation coefficient\n",
        "correlation_coefficient = X.corrwith(y)\n",
        "\n",
        "# Perform univariate logistic regression\n",
        "logistic_regression_p_values = []\n",
        "for feature_name in X.columns:\n",
        "    X_feature = X[feature_name].values.reshape(-1, 1)\n",
        "\n",
        "    # Fit logistic regression model\n",
        "    lr_model = LogisticRegression()\n",
        "    lr_model.fit(X_feature, y)\n",
        "\n",
        "    # Get the p-value from logistic regression\n",
        "    p_value = lr_model.coef_[0][0]\n",
        "    logistic_regression_p_values.append(p_value)\n",
        "\n",
        "# Combine the results into a DataFrame\n",
        "selected_features3 = pd.DataFrame({\n",
        "    'Pearson_Coefficient': correlation_coefficient,\n",
        "    'Logistic_Regression_P_Value': logistic_regression_p_values\n",
        "})\n",
        "\n",
        "# Select features based on p-value and Pearson_Coefficient\n",
        "selected_features3 = selected_features3[selected_features3['Logistic_Regression_P_Value'] <= 0.05]\n",
        "\n",
        "# Use a loop to find a list of features of the desired length\n",
        "# Starting from absolute correlation of 0.1\n",
        "num_features_kept = 0\n",
        "corr = 0.51\n",
        "while num_features_kept < num_features_to_select:\n",
        "    corr -= 0.01\n",
        "    num_features_kept = (abs(selected_features3['Pearson_Coefficient']) >= corr).sum()"
      ],
      "metadata": {
        "ExecuteTime": {
          "end_time": "2023-09-18T21:27:17.904546500Z",
          "start_time": "2023-09-18T21:27:17.343348100Z"
        },
        "id": "836c5543af0e95d6"
      },
      "id": "836c5543af0e95d6"
    },
    {
      "cell_type": "code",
      "execution_count": null,
      "outputs": [
        {
          "output_type": "stream",
          "name": "stdout",
          "text": [
            "Selected Features:\n",
            "Index(['original_shape_Sphericity-pet_postrt',\n",
            "       'original_shape_SurfaceVolumeRatio-pet_postrt',\n",
            "       'original_firstorder_Minimum-pet_postrt',\n",
            "       'original_shape_Sphericity-pet_prert',\n",
            "       'original_shape_SurfaceVolumeRatio-pet_prert',\n",
            "       'original_shape_Sphericity-ct_postrt',\n",
            "       'original_shape_SurfaceVolumeRatio-ct_postrt',\n",
            "       'original_firstorder_RobustMeanAbsoluteDeviation-ct_postrt',\n",
            "       'original_glcm_Contrast-ct_postrt',\n",
            "       'original_glcm_DifferenceVariance-ct_postrt',\n",
            "       'original_gldm_LowGrayLevelEmphasis-ct_postrt',\n",
            "       'original_gldm_SmallDependenceLowGrayLevelEmphasis-ct_postrt',\n",
            "       'original_glrlm_LowGrayLevelRunEmphasis-ct_postrt',\n",
            "       'original_glrlm_ShortRunLowGrayLevelEmphasis-ct_postrt',\n",
            "       'original_glszm_LowGrayLevelZoneEmphasis-ct_postrt',\n",
            "       'original_glszm_SmallAreaLowGrayLevelEmphasis-ct_postrt',\n",
            "       'original_ngtdm_Coarseness-ct_postrt',\n",
            "       'original_ngtdm_Contrast-ct_postrt',\n",
            "       'original_shape_Sphericity-ct_prert',\n",
            "       'original_shape_SurfaceVolumeRatio-ct_prert',\n",
            "       'original_gldm_SmallDependenceLowGrayLevelEmphasis-ct_prert',\n",
            "       'original_glrlm_RunPercentage-ct_prert',\n",
            "       'original_glszm_SmallAreaLowGrayLevelEmphasis-ct_prert',\n",
            "       'original_ngtdm_Coarseness-ct_prert',\n",
            "       'original_glrlm_LongRunHighGrayLevelEmphasis-pet_diff',\n",
            "       'original_glszm_GrayLevelNonUniformity-pet_diff',\n",
            "       'original_glszm_SmallAreaEmphasis-pet_diff',\n",
            "       'original_glszm_SmallAreaHighGrayLevelEmphasis-pet_diff',\n",
            "       'original_glszm_SmallAreaLowGrayLevelEmphasis-pet_diff',\n",
            "       'original_glszm_ZoneEntropy-pet_diff',\n",
            "       'original_glszm_ZoneVariance-pet_diff',\n",
            "       'original_firstorder_Skewness-ct_diff', 'hpv_total_1',\n",
            "       'Clinical T Stage_1'],\n",
            "      dtype='object')\n"
          ]
        }
      ],
      "source": [
        "selected_features3 = selected_features3[abs(selected_features3['Pearson_Coefficient']) >= corr]\n",
        "# Print selected features\n",
        "print(\"Selected Features:\")\n",
        "print(selected_features3.index)"
      ],
      "metadata": {
        "ExecuteTime": {
          "end_time": "2023-09-18T21:27:17.907905900Z",
          "start_time": "2023-09-18T21:27:17.904546500Z"
        },
        "colab": {
          "base_uri": "https://localhost:8080/"
        },
        "id": "8607e60b5feeefbe",
        "outputId": "601d34d2-6947-4fe7-b37c-4956415ff24d"
      },
      "id": "8607e60b5feeefbe"
    },
    {
      "cell_type": "markdown",
      "source": [
        "## Combining the Results\n",
        "\n",
        "#### Find the intersection"
      ],
      "metadata": {
        "collapsed": false,
        "id": "883ca28968c48dc3"
      },
      "id": "883ca28968c48dc3"
    },
    {
      "cell_type": "code",
      "execution_count": null,
      "outputs": [],
      "source": [
        "features_to_consider = selected_features1_index.intersection(selected_features2_index.intersection(selected_features3.index))"
      ],
      "metadata": {
        "ExecuteTime": {
          "end_time": "2023-09-18T21:27:17.914294500Z",
          "start_time": "2023-09-18T21:27:17.907905900Z"
        },
        "id": "291727692bfd490c"
      },
      "id": "291727692bfd490c"
    },
    {
      "cell_type": "code",
      "source": [
        "features_to_consider"
      ],
      "metadata": {
        "colab": {
          "base_uri": "https://localhost:8080/"
        },
        "id": "aVLJEpfxquiw",
        "outputId": "1fe22414-4331-4f1f-eb01-61999797cd83"
      },
      "id": "aVLJEpfxquiw",
      "execution_count": null,
      "outputs": [
        {
          "output_type": "execute_result",
          "data": {
            "text/plain": [
              "Index(['original_gldm_SmallDependenceLowGrayLevelEmphasis-ct_postrt', 'hpv_total_1'], dtype='object')"
            ]
          },
          "metadata": {},
          "execution_count": 26
        }
      ]
    },
    {
      "cell_type": "markdown",
      "source": [
        "## Model Building"
      ],
      "metadata": {
        "collapsed": false,
        "id": "1bfe891da799716"
      },
      "id": "1bfe891da799716"
    },
    {
      "cell_type": "code",
      "execution_count": null,
      "outputs": [],
      "source": [
        "from sklearn.metrics import precision_recall_curve, auc, roc_curve, roc_auc_score"
      ],
      "metadata": {
        "ExecuteTime": {
          "end_time": "2023-09-18T21:28:00.911136200Z",
          "start_time": "2023-09-18T21:28:00.910632800Z"
        },
        "id": "defbf942cf32fae3"
      },
      "id": "defbf942cf32fae3"
    },
    {
      "cell_type": "code",
      "source": [
        "features_to_consider = [selected_features1_index, selected_features2_index, selected_features3.index]"
      ],
      "metadata": {
        "id": "vDCvo4gPuRpG"
      },
      "id": "vDCvo4gPuRpG",
      "execution_count": null,
      "outputs": []
    },
    {
      "cell_type": "code",
      "source": [
        "# Define a list to store the split data\n",
        "split_data = []\n",
        "random_state = np.random.randint(1000)\n",
        "\n",
        "# Perform the splits for different random states\n",
        "for i in range(len(features_to_consider)):\n",
        "    X_new = X[features_to_consider[i]]\n",
        "\n",
        "    # Split the data in a 60-20-20 fashion\n",
        "    X_train, X_temp, y_train, y_temp = train_test_split(X_new, y, test_size = 0.4, random_state = random_state)\n",
        "    X_val, X_test, y_val, y_test = train_test_split(X_temp, y_temp, test_size = 0.5, random_state = random_state)\n",
        "\n",
        "    # Store the split data in a tuple or a dictionary with a label (e.g., 'train' and 'test')\n",
        "    split = {\n",
        "        'X_train': X_train,\n",
        "        'y_train': y_train,\n",
        "        'X_validation': X_val,\n",
        "        'y_validation': y_val,\n",
        "        'X_test': X_test,\n",
        "        'y_test': y_test\n",
        "    }\n",
        "\n",
        "    # Append the split data to the list\n",
        "    split_data.append(split)"
      ],
      "metadata": {
        "id": "fDRy6pE7s9so"
      },
      "id": "fDRy6pE7s9so",
      "execution_count": null,
      "outputs": []
    },
    {
      "cell_type": "code",
      "execution_count": null,
      "outputs": [
        {
          "output_type": "stream",
          "name": "stdout",
          "text": [
            "Random State 1:\n",
            "Train Set:\n",
            "(105, 30)\n",
            "Random State 2:\n",
            "Train Set:\n",
            "(105, 34)\n",
            "Random State 3:\n",
            "Train Set:\n",
            "(105, 34)\n"
          ]
        }
      ],
      "source": [
        "# Access the split data for each random state\n",
        "for i, split in enumerate(split_data):\n",
        "    print(f\"Random State {i + 1}:\")\n",
        "    print(\"Train Set:\")\n",
        "    print(split['X_train'].shape)"
      ],
      "metadata": {
        "ExecuteTime": {
          "end_time": "2023-09-18T21:39:05.402811100Z",
          "start_time": "2023-09-18T21:39:05.386677700Z"
        },
        "colab": {
          "base_uri": "https://localhost:8080/"
        },
        "id": "45406df4ae620d56",
        "outputId": "f5964f05-bed8-49ce-973b-adcd03c51f6a"
      },
      "id": "45406df4ae620d56"
    },
    {
      "cell_type": "markdown",
      "source": [
        "#### Logistic Regression"
      ],
      "metadata": {
        "collapsed": false,
        "id": "bc1d6beea0afd958"
      },
      "id": "bc1d6beea0afd958"
    },
    {
      "cell_type": "code",
      "source": [
        "# Define a dictionary to store the scores\n",
        "dict_scores = []"
      ],
      "metadata": {
        "id": "gt9eUN-s2xlq"
      },
      "id": "gt9eUN-s2xlq",
      "execution_count": null,
      "outputs": []
    },
    {
      "cell_type": "code",
      "execution_count": null,
      "outputs": [
        {
          "output_type": "display_data",
          "data": {
            "text/plain": [
              "<Figure size 1000x700 with 6 Axes>"
            ],
            "image/png": "[encoded data removed]"
          },
          "metadata": {}
        }
      ],
      "source": [
        "# Use subplot to show the Precision-Recall curve and ROC-AUC in three cases\n",
        "fig, axs = plt.subplots(2, 3, figsize=(10, 7))\n",
        "\n",
        "for i, split in enumerate(split_data):\n",
        "    lr_model = LogisticRegression(max_iter = 1000)\n",
        "    lr_model.fit(split['X_train'], split['y_train'])\n",
        "\n",
        "    y_pred_prob = lr_model.predict_proba(split['X_test'])[:, 1]\n",
        "\n",
        "    # Calculate and display the Precision-Recall curve and PRAUC\n",
        "    precision, recall, _ = precision_recall_curve(split['y_test'], y_pred_prob)\n",
        "    prauc = auc(recall, precision)\n",
        "\n",
        "    axs[0, i].plot(recall, precision, marker='.')\n",
        "    axs[0, i].set_xlabel('Recall')\n",
        "    axs[0, i].set_ylabel('Precision')\n",
        "    axs[0, i].set_title('Precision-Recall Curve (PRAUC = {:.2f})'.format(prauc))\n",
        "    axs[0, i].grid(True)\n",
        "\n",
        "    # Calculate and display the ROC curve and AUC\n",
        "    fpr, tpr, _ = roc_curve(split['y_test'], y_pred_prob)\n",
        "    roc_auc = roc_auc_score(split['y_test'], y_pred_prob)\n",
        "\n",
        "    axs[1, i].plot(fpr, tpr, marker='.')\n",
        "    axs[1, i].set_xlabel('False Positive Rate')\n",
        "    axs[1, i].set_ylabel('True Positive Rate')\n",
        "    axs[1, i].set_title('ROC Curve (AUC = {:.2f})'.format(roc_auc))\n",
        "    axs[1, i].grid(True)\n",
        "\n",
        "    dict_scores.append({\"PRAUC\" : prauc,\"AUC\" : roc_auc})\n",
        "\n",
        "plt.tight_layout()\n",
        "plt.show()"
      ],
      "metadata": {
        "ExecuteTime": {
          "end_time": "2023-09-18T21:39:06.250612900Z",
          "start_time": "2023-09-18T21:39:06.107546100Z"
        },
        "colab": {
          "base_uri": "https://localhost:8080/",
          "height": 707
        },
        "id": "b25a4a44a3e7009f",
        "outputId": "c3d4e90e-9674-44ae-97c2-46351f1183b5"
      },
      "id": "b25a4a44a3e7009f"
    },
    {
      "cell_type": "code",
      "source": [
        "# Show scores in the three cases\n",
        "dict_scores1 = pd.DataFrame(dict_scores)\n",
        "row_indices = ['From RFE', 'From LASSO', 'From Uni_LR + Corr']\n",
        "dict_scores1.index = row_indices\n",
        "dict_scores1"
      ],
      "metadata": {
        "colab": {
          "base_uri": "https://localhost:8080/",
          "height": 143
        },
        "id": "NXGzvuyE6qCd",
        "outputId": "c0af7cb8-fc8f-4948-9cab-7acdbe98b033"
      },
      "id": "NXGzvuyE6qCd",
      "execution_count": null,
      "outputs": [
        {
          "output_type": "execute_result",
          "data": {
            "text/plain": [
              "                       PRAUC       AUC\n",
              "From RFE            0.642262  0.943548\n",
              "From LASSO          0.395238  0.919355\n",
              "From Uni_LR + Corr  0.230426  0.814516"
            ],
            "text/html": [
              "\n",
              "  <div id=\"df-826f0c03-c37a-4afd-be41-f54cc4e408f1\" class=\"colab-df-container\">\n",
              "    <div>\n",
              "<style scoped>\n",
              "    .dataframe tbody tr th:only-of-type {\n",
              "        vertical-align: middle;\n",
              "    }\n",
              "\n",
              "    .dataframe tbody tr th {\n",
              "        vertical-align: top;\n",
              "    }\n",
              "\n",
              "    .dataframe thead th {\n",
              "        text-align: right;\n",
              "    }\n",
              "</style>\n",
              "<table border=\"1\" class=\"dataframe\">\n",
              "  <thead>\n",
              "    <tr style=\"text-align: right;\">\n",
              "      <th></th>\n",
              "      <th>PRAUC</th>\n",
              "      <th>AUC</th>\n",
              "    </tr>\n",
              "  </thead>\n",
              "  <tbody>\n",
              "    <tr>\n",
              "      <th>From RFE</th>\n",
              "      <td>0.642262</td>\n",
              "      <td>0.943548</td>\n",
              "    </tr>\n",
              "    <tr>\n",
              "      <th>From LASSO</th>\n",
              "      <td>0.395238</td>\n",
              "      <td>0.919355</td>\n",
              "    </tr>\n",
              "    <tr>\n",
              "      <th>From Uni_LR + Corr</th>\n",
              "      <td>0.230426</td>\n",
              "      <td>0.814516</td>\n",
              "    </tr>\n",
              "  </tbody>\n",
              "</table>\n",
              "</div>\n",
              "    <div class=\"colab-df-buttons\">\n",
              "\n",
              "  <div class=\"colab-df-container\">\n",
              "    <button class=\"colab-df-convert\" onclick=\"convertToInteractive('df-826f0c03-c37a-4afd-be41-f54cc4e408f1')\"\n",
              "            title=\"Convert this dataframe to an interactive table.\"\n",
              "            style=\"display:none;\">\n",
              "\n",
              "  <svg xmlns=\"http://www.w3.org/2000/svg\" height=\"24px\" viewBox=\"0 -960 960 960\">\n",
              "    <path d=\"M120-120v-720h720v720H120Zm60-500h600v-160H180v160Zm220 220h160v-160H400v160Zm0 220h160v-160H400v160ZM180-400h160v-160H180v160Zm440 0h160v-160H620v160ZM180-180h160v-160H180v160Zm440 0h160v-160H620v160Z\"/>\n",
              "  </svg>\n",
              "    </button>\n",
              "\n",
              "  <style>\n",
              "    .colab-df-container {\n",
              "      display:flex;\n",
              "      gap: 12px;\n",
              "    }\n",
              "\n",
              "    .colab-df-convert {\n",
              "      background-color: #E8F0FE;\n",
              "      border: none;\n",
              "      border-radius: 50%;\n",
              "      cursor: pointer;\n",
              "      display: none;\n",
              "      fill: #1967D2;\n",
              "      height: 32px;\n",
              "      padding: 0 0 0 0;\n",
              "      width: 32px;\n",
              "    }\n",
              "\n",
              "    .colab-df-convert:hover {\n",
              "      background-color: #E2EBFA;\n",
              "      box-shadow: 0px 1px 2px rgba(60, 64, 67, 0.3), 0px 1px 3px 1px rgba(60, 64, 67, 0.15);\n",
              "      fill: #174EA6;\n",
              "    }\n",
              "\n",
              "    .colab-df-buttons div {\n",
              "      margin-bottom: 4px;\n",
              "    }\n",
              "\n",
              "    [theme=dark] .colab-df-convert {\n",
              "      background-color: #3B4455;\n",
              "      fill: #D2E3FC;\n",
              "    }\n",
              "\n",
              "    [theme=dark] .colab-df-convert:hover {\n",
              "      background-color: #434B5C;\n",
              "      box-shadow: 0px 1px 3px 1px rgba(0, 0, 0, 0.15);\n",
              "      filter: drop-shadow(0px 1px 2px rgba(0, 0, 0, 0.3));\n",
              "      fill: #FFFFFF;\n",
              "    }\n",
              "  </style>\n",
              "\n",
              "    <script>\n",
              "      const buttonEl =\n",
              "        document.querySelector('#df-826f0c03-c37a-4afd-be41-f54cc4e408f1 button.colab-df-convert');\n",
              "      buttonEl.style.display =\n",
              "        google.colab.kernel.accessAllowed ? 'block' : 'none';\n",
              "\n",
              "      async function convertToInteractive(key) {\n",
              "        const element = document.querySelector('#df-826f0c03-c37a-4afd-be41-f54cc4e408f1');\n",
              "        const dataTable =\n",
              "          await google.colab.kernel.invokeFunction('convertToInteractive',\n",
              "                                                    [key], {});\n",
              "        if (!dataTable) return;\n",
              "\n",
              "        const docLinkHtml = 'Like what you see? Visit the ' +\n",
              "          '<a target=\"_blank\" href=https://colab.research.google.com/notebooks/data_table.ipynb>data table notebook</a>'\n",
              "          + ' to learn more about interactive tables.';\n",
              "        element.innerHTML = '';\n",
              "        dataTable['output_type'] = 'display_data';\n",
              "        await google.colab.output.renderOutput(dataTable, element);\n",
              "        const docLink = document.createElement('div');\n",
              "        docLink.innerHTML = docLinkHtml;\n",
              "        element.appendChild(docLink);\n",
              "      }\n",
              "    </script>\n",
              "  </div>\n",
              "\n",
              "\n",
              "<div id=\"df-995b9353-3c55-4761-8613-5b11c70d0cf4\">\n",
              "  <button class=\"colab-df-quickchart\" onclick=\"quickchart('df-995b9353-3c55-4761-8613-5b11c70d0cf4')\"\n",
              "            title=\"Suggest charts.\"\n",
              "            style=\"display:none;\">\n",
              "\n",
              "<svg xmlns=\"http://www.w3.org/2000/svg\" height=\"24px\"viewBox=\"0 0 24 24\"\n",
              "     width=\"24px\">\n",
              "    <g>\n",
              "        <path d=\"M19 3H5c-1.1 0-2 .9-2 2v14c0 1.1.9 2 2 2h14c1.1 0 2-.9 2-2V5c0-1.1-.9-2-2-2zM9 17H7v-7h2v7zm4 0h-2V7h2v10zm4 0h-2v-4h2v4z\"/>\n",
              "    </g>\n",
              "</svg>\n",
              "  </button>\n",
              "\n",
              "<style>\n",
              "  .colab-df-quickchart {\n",
              "      --bg-color: #E8F0FE;\n",
              "      --fill-color: #1967D2;\n",
              "      --hover-bg-color: #E2EBFA;\n",
              "      --hover-fill-color: #174EA6;\n",
              "      --disabled-fill-color: #AAA;\n",
              "      --disabled-bg-color: #DDD;\n",
              "  }\n",
              "\n",
              "  [theme=dark] .colab-df-quickchart {\n",
              "      --bg-color: #3B4455;\n",
              "      --fill-color: #D2E3FC;\n",
              "      --hover-bg-color: #434B5C;\n",
              "      --hover-fill-color: #FFFFFF;\n",
              "      --disabled-bg-color: #3B4455;\n",
              "      --disabled-fill-color: #666;\n",
              "  }\n",
              "\n",
              "  .colab-df-quickchart {\n",
              "    background-color: var(--bg-color);\n",
              "    border: none;\n",
              "    border-radius: 50%;\n",
              "    cursor: pointer;\n",
              "    display: none;\n",
              "    fill: var(--fill-color);\n",
              "    height: 32px;\n",
              "    padding: 0;\n",
              "    width: 32px;\n",
              "  }\n",
              "\n",
              "  .colab-df-quickchart:hover {\n",
              "    background-color: var(--hover-bg-color);\n",
              "    box-shadow: 0 1px 2px rgba(60, 64, 67, 0.3), 0 1px 3px 1px rgba(60, 64, 67, 0.15);\n",
              "    fill: var(--button-hover-fill-color);\n",
              "  }\n",
              "\n",
              "  .colab-df-quickchart-complete:disabled,\n",
              "  .colab-df-quickchart-complete:disabled:hover {\n",
              "    background-color: var(--disabled-bg-color);\n",
              "    fill: var(--disabled-fill-color);\n",
              "    box-shadow: none;\n",
              "  }\n",
              "\n",
              "  .colab-df-spinner {\n",
              "    border: 2px solid var(--fill-color);\n",
              "    border-color: transparent;\n",
              "    border-bottom-color: var(--fill-color);\n",
              "    animation:\n",
              "      spin 1s steps(1) infinite;\n",
              "  }\n",
              "\n",
              "  @keyframes spin {\n",
              "    0% {\n",
              "      border-color: transparent;\n",
              "      border-bottom-color: var(--fill-color);\n",
              "      border-left-color: var(--fill-color);\n",
              "    }\n",
              "    20% {\n",
              "      border-color: transparent;\n",
              "      border-left-color: var(--fill-color);\n",
              "      border-top-color: var(--fill-color);\n",
              "    }\n",
              "    30% {\n",
              "      border-color: transparent;\n",
              "      border-left-color: var(--fill-color);\n",
              "      border-top-color: var(--fill-color);\n",
              "      border-right-color: var(--fill-color);\n",
              "    }\n",
              "    40% {\n",
              "      border-color: transparent;\n",
              "      border-right-color: var(--fill-color);\n",
              "      border-top-color: var(--fill-color);\n",
              "    }\n",
              "    60% {\n",
              "      border-color: transparent;\n",
              "      border-right-color: var(--fill-color);\n",
              "    }\n",
              "    80% {\n",
              "      border-color: transparent;\n",
              "      border-right-color: var(--fill-color);\n",
              "      border-bottom-color: var(--fill-color);\n",
              "    }\n",
              "    90% {\n",
              "      border-color: transparent;\n",
              "      border-bottom-color: var(--fill-color);\n",
              "    }\n",
              "  }\n",
              "</style>\n",
              "\n",
              "  <script>\n",
              "    async function quickchart(key) {\n",
              "      const quickchartButtonEl =\n",
              "        document.querySelector('#' + key + ' button');\n",
              "      quickchartButtonEl.disabled = true;  // To prevent multiple clicks.\n",
              "      quickchartButtonEl.classList.add('colab-df-spinner');\n",
              "      try {\n",
              "        const charts = await google.colab.kernel.invokeFunction(\n",
              "            'suggestCharts', [key], {});\n",
              "      } catch (error) {\n",
              "        console.error('Error during call to suggestCharts:', error);\n",
              "      }\n",
              "      quickchartButtonEl.classList.remove('colab-df-spinner');\n",
              "      quickchartButtonEl.classList.add('colab-df-quickchart-complete');\n",
              "    }\n",
              "    (() => {\n",
              "      let quickchartButtonEl =\n",
              "        document.querySelector('#df-995b9353-3c55-4761-8613-5b11c70d0cf4 button');\n",
              "      quickchartButtonEl.style.display =\n",
              "        google.colab.kernel.accessAllowed ? 'block' : 'none';\n",
              "    })();\n",
              "  </script>\n",
              "</div>\n",
              "    </div>\n",
              "  </div>\n"
            ]
          },
          "metadata": {},
          "execution_count": 63
        }
      ]
    },
    {
      "cell_type": "markdown",
      "source": [
        "#### SVM"
      ],
      "metadata": {
        "collapsed": false,
        "id": "d62407498f51c692"
      },
      "id": "d62407498f51c692"
    },
    {
      "cell_type": "code",
      "source": [
        "dict_scores = []"
      ],
      "metadata": {
        "id": "PtL2nlJjAONS"
      },
      "id": "PtL2nlJjAONS",
      "execution_count": null,
      "outputs": []
    },
    {
      "cell_type": "code",
      "execution_count": null,
      "outputs": [
        {
          "output_type": "display_data",
          "data": {
            "text/plain": [
              "<Figure size 1000x700 with 6 Axes>"
            ],
            "image/png": "[encoded data removed]"
          },
          "metadata": {}
        }
      ],
      "source": [
        "from sklearn.svm import SVC\n",
        "fig, axs = plt.subplots(2, 3, figsize=(10, 7))\n",
        "\n",
        "for i, split in enumerate(split_data):\n",
        "    svm_model = SVC(probability=True)\n",
        "    svm_model.fit(split['X_train'], split['y_train'])\n",
        "\n",
        "    y_pred_prob = svm_model.predict_proba(split['X_test'])[:, 1]\n",
        "\n",
        "    # Calculate and display the Precision-Recall curve and PRAUC\n",
        "    precision, recall, _ = precision_recall_curve(split['y_test'], y_pred_prob)\n",
        "    prauc = auc(recall, precision)\n",
        "\n",
        "    axs[0, i].plot(recall, precision, marker='.')\n",
        "    axs[0, i].set_xlabel('Recall')\n",
        "    axs[0, i].set_ylabel('Precision')\n",
        "    axs[0, i].set_title('Precision-Recall Curve (PRAUC = {:.2f})'.format(prauc))\n",
        "    axs[0, i].grid(True)\n",
        "\n",
        "    # Calculate and display the ROC curve and AUC\n",
        "    fpr, tpr, _ = roc_curve(split['y_test'], y_pred_prob)\n",
        "    roc_auc = roc_auc_score(split['y_test'], y_pred_prob)\n",
        "\n",
        "    axs[1, i].plot(fpr, tpr, marker='.')\n",
        "    axs[1, i].set_xlabel('False Positive Rate')\n",
        "    axs[1, i].set_ylabel('True Positive Rate')\n",
        "    axs[1, i].set_title('ROC Curve (AUC = {:.2f})'.format(roc_auc))\n",
        "    axs[1, i].grid(True)\n",
        "\n",
        "    dict_scores.append({\"PRAUC\" : prauc,\"AUC\" : roc_auc})\n",
        "\n",
        "plt.tight_layout()\n",
        "plt.show()"
      ],
      "metadata": {
        "ExecuteTime": {
          "end_time": "2023-09-18T21:32:35.271519500Z",
          "start_time": "2023-09-18T21:32:35.128454400Z"
        },
        "colab": {
          "base_uri": "https://localhost:8080/",
          "height": 707
        },
        "id": "3e121cc98bfafaeb",
        "outputId": "790453f3-560d-4daa-b96a-f4322b413c7a"
      },
      "id": "3e121cc98bfafaeb"
    },
    {
      "cell_type": "code",
      "execution_count": null,
      "outputs": [
        {
          "output_type": "execute_result",
          "data": {
            "text/plain": [
              "                       PRAUC       AUC\n",
              "From RFE            0.413095  0.927419\n",
              "From LASSO          0.412500  0.911290\n",
              "From Uni_LR + Corr  0.247091  0.830645"
            ],
            "text/html": [
              "\n",
              "  <div id=\"df-7f5c3161-99d4-4004-8685-9361fb182927\" class=\"colab-df-container\">\n",
              "    <div>\n",
              "<style scoped>\n",
              "    .dataframe tbody tr th:only-of-type {\n",
              "        vertical-align: middle;\n",
              "    }\n",
              "\n",
              "    .dataframe tbody tr th {\n",
              "        vertical-align: top;\n",
              "    }\n",
              "\n",
              "    .dataframe thead th {\n",
              "        text-align: right;\n",
              "    }\n",
              "</style>\n",
              "<table border=\"1\" class=\"dataframe\">\n",
              "  <thead>\n",
              "    <tr style=\"text-align: right;\">\n",
              "      <th></th>\n",
              "      <th>PRAUC</th>\n",
              "      <th>AUC</th>\n",
              "    </tr>\n",
              "  </thead>\n",
              "  <tbody>\n",
              "    <tr>\n",
              "      <th>From RFE</th>\n",
              "      <td>0.413095</td>\n",
              "      <td>0.927419</td>\n",
              "    </tr>\n",
              "    <tr>\n",
              "      <th>From LASSO</th>\n",
              "      <td>0.412500</td>\n",
              "      <td>0.911290</td>\n",
              "    </tr>\n",
              "    <tr>\n",
              "      <th>From Uni_LR + Corr</th>\n",
              "      <td>0.247091</td>\n",
              "      <td>0.830645</td>\n",
              "    </tr>\n",
              "  </tbody>\n",
              "</table>\n",
              "</div>\n",
              "    <div class=\"colab-df-buttons\">\n",
              "\n",
              "  <div class=\"colab-df-container\">\n",
              "    <button class=\"colab-df-convert\" onclick=\"convertToInteractive('df-7f5c3161-99d4-4004-8685-9361fb182927')\"\n",
              "            title=\"Convert this dataframe to an interactive table.\"\n",
              "            style=\"display:none;\">\n",
              "\n",
              "  <svg xmlns=\"http://www.w3.org/2000/svg\" height=\"24px\" viewBox=\"0 -960 960 960\">\n",
              "    <path d=\"M120-120v-720h720v720H120Zm60-500h600v-160H180v160Zm220 220h160v-160H400v160Zm0 220h160v-160H400v160ZM180-400h160v-160H180v160Zm440 0h160v-160H620v160ZM180-180h160v-160H180v160Zm440 0h160v-160H620v160Z\"/>\n",
              "  </svg>\n",
              "    </button>\n",
              "\n",
              "  <style>\n",
              "    .colab-df-container {\n",
              "      display:flex;\n",
              "      gap: 12px;\n",
              "    }\n",
              "\n",
              "    .colab-df-convert {\n",
              "      background-color: #E8F0FE;\n",
              "      border: none;\n",
              "      border-radius: 50%;\n",
              "      cursor: pointer;\n",
              "      display: none;\n",
              "      fill: #1967D2;\n",
              "      height: 32px;\n",
              "      padding: 0 0 0 0;\n",
              "      width: 32px;\n",
              "    }\n",
              "\n",
              "    .colab-df-convert:hover {\n",
              "      background-color: #E2EBFA;\n",
              "      box-shadow: 0px 1px 2px rgba(60, 64, 67, 0.3), 0px 1px 3px 1px rgba(60, 64, 67, 0.15);\n",
              "      fill: #174EA6;\n",
              "    }\n",
              "\n",
              "    .colab-df-buttons div {\n",
              "      margin-bottom: 4px;\n",
              "    }\n",
              "\n",
              "    [theme=dark] .colab-df-convert {\n",
              "      background-color: #3B4455;\n",
              "      fill: #D2E3FC;\n",
              "    }\n",
              "\n",
              "    [theme=dark] .colab-df-convert:hover {\n",
              "      background-color: #434B5C;\n",
              "      box-shadow: 0px 1px 3px 1px rgba(0, 0, 0, 0.15);\n",
              "      filter: drop-shadow(0px 1px 2px rgba(0, 0, 0, 0.3));\n",
              "      fill: #FFFFFF;\n",
              "    }\n",
              "  </style>\n",
              "\n",
              "    <script>\n",
              "      const buttonEl =\n",
              "        document.querySelector('#df-7f5c3161-99d4-4004-8685-9361fb182927 button.colab-df-convert');\n",
              "      buttonEl.style.display =\n",
              "        google.colab.kernel.accessAllowed ? 'block' : 'none';\n",
              "\n",
              "      async function convertToInteractive(key) {\n",
              "        const element = document.querySelector('#df-7f5c3161-99d4-4004-8685-9361fb182927');\n",
              "        const dataTable =\n",
              "          await google.colab.kernel.invokeFunction('convertToInteractive',\n",
              "                                                    [key], {});\n",
              "        if (!dataTable) return;\n",
              "\n",
              "        const docLinkHtml = 'Like what you see? Visit the ' +\n",
              "          '<a target=\"_blank\" href=https://colab.research.google.com/notebooks/data_table.ipynb>data table notebook</a>'\n",
              "          + ' to learn more about interactive tables.';\n",
              "        element.innerHTML = '';\n",
              "        dataTable['output_type'] = 'display_data';\n",
              "        await google.colab.output.renderOutput(dataTable, element);\n",
              "        const docLink = document.createElement('div');\n",
              "        docLink.innerHTML = docLinkHtml;\n",
              "        element.appendChild(docLink);\n",
              "      }\n",
              "    </script>\n",
              "  </div>\n",
              "\n",
              "\n",
              "<div id=\"df-c024b4d3-23d9-4bdb-a096-d0530d182c2f\">\n",
              "  <button class=\"colab-df-quickchart\" onclick=\"quickchart('df-c024b4d3-23d9-4bdb-a096-d0530d182c2f')\"\n",
              "            title=\"Suggest charts.\"\n",
              "            style=\"display:none;\">\n",
              "\n",
              "<svg xmlns=\"http://www.w3.org/2000/svg\" height=\"24px\"viewBox=\"0 0 24 24\"\n",
              "     width=\"24px\">\n",
              "    <g>\n",
              "        <path d=\"M19 3H5c-1.1 0-2 .9-2 2v14c0 1.1.9 2 2 2h14c1.1 0 2-.9 2-2V5c0-1.1-.9-2-2-2zM9 17H7v-7h2v7zm4 0h-2V7h2v10zm4 0h-2v-4h2v4z\"/>\n",
              "    </g>\n",
              "</svg>\n",
              "  </button>\n",
              "\n",
              "<style>\n",
              "  .colab-df-quickchart {\n",
              "      --bg-color: #E8F0FE;\n",
              "      --fill-color: #1967D2;\n",
              "      --hover-bg-color: #E2EBFA;\n",
              "      --hover-fill-color: #174EA6;\n",
              "      --disabled-fill-color: #AAA;\n",
              "      --disabled-bg-color: #DDD;\n",
              "  }\n",
              "\n",
              "  [theme=dark] .colab-df-quickchart {\n",
              "      --bg-color: #3B4455;\n",
              "      --fill-color: #D2E3FC;\n",
              "      --hover-bg-color: #434B5C;\n",
              "      --hover-fill-color: #FFFFFF;\n",
              "      --disabled-bg-color: #3B4455;\n",
              "      --disabled-fill-color: #666;\n",
              "  }\n",
              "\n",
              "  .colab-df-quickchart {\n",
              "    background-color: var(--bg-color);\n",
              "    border: none;\n",
              "    border-radius: 50%;\n",
              "    cursor: pointer;\n",
              "    display: none;\n",
              "    fill: var(--fill-color);\n",
              "    height: 32px;\n",
              "    padding: 0;\n",
              "    width: 32px;\n",
              "  }\n",
              "\n",
              "  .colab-df-quickchart:hover {\n",
              "    background-color: var(--hover-bg-color);\n",
              "    box-shadow: 0 1px 2px rgba(60, 64, 67, 0.3), 0 1px 3px 1px rgba(60, 64, 67, 0.15);\n",
              "    fill: var(--button-hover-fill-color);\n",
              "  }\n",
              "\n",
              "  .colab-df-quickchart-complete:disabled,\n",
              "  .colab-df-quickchart-complete:disabled:hover {\n",
              "    background-color: var(--disabled-bg-color);\n",
              "    fill: var(--disabled-fill-color);\n",
              "    box-shadow: none;\n",
              "  }\n",
              "\n",
              "  .colab-df-spinner {\n",
              "    border: 2px solid var(--fill-color);\n",
              "    border-color: transparent;\n",
              "    border-bottom-color: var(--fill-color);\n",
              "    animation:\n",
              "      spin 1s steps(1) infinite;\n",
              "  }\n",
              "\n",
              "  @keyframes spin {\n",
              "    0% {\n",
              "      border-color: transparent;\n",
              "      border-bottom-color: var(--fill-color);\n",
              "      border-left-color: var(--fill-color);\n",
              "    }\n",
              "    20% {\n",
              "      border-color: transparent;\n",
              "      border-left-color: var(--fill-color);\n",
              "      border-top-color: var(--fill-color);\n",
              "    }\n",
              "    30% {\n",
              "      border-color: transparent;\n",
              "      border-left-color: var(--fill-color);\n",
              "      border-top-color: var(--fill-color);\n",
              "      border-right-color: var(--fill-color);\n",
              "    }\n",
              "    40% {\n",
              "      border-color: transparent;\n",
              "      border-right-color: var(--fill-color);\n",
              "      border-top-color: var(--fill-color);\n",
              "    }\n",
              "    60% {\n",
              "      border-color: transparent;\n",
              "      border-right-color: var(--fill-color);\n",
              "    }\n",
              "    80% {\n",
              "      border-color: transparent;\n",
              "      border-right-color: var(--fill-color);\n",
              "      border-bottom-color: var(--fill-color);\n",
              "    }\n",
              "    90% {\n",
              "      border-color: transparent;\n",
              "      border-bottom-color: var(--fill-color);\n",
              "    }\n",
              "  }\n",
              "</style>\n",
              "\n",
              "  <script>\n",
              "    async function quickchart(key) {\n",
              "      const quickchartButtonEl =\n",
              "        document.querySelector('#' + key + ' button');\n",
              "      quickchartButtonEl.disabled = true;  // To prevent multiple clicks.\n",
              "      quickchartButtonEl.classList.add('colab-df-spinner');\n",
              "      try {\n",
              "        const charts = await google.colab.kernel.invokeFunction(\n",
              "            'suggestCharts', [key], {});\n",
              "      } catch (error) {\n",
              "        console.error('Error during call to suggestCharts:', error);\n",
              "      }\n",
              "      quickchartButtonEl.classList.remove('colab-df-spinner');\n",
              "      quickchartButtonEl.classList.add('colab-df-quickchart-complete');\n",
              "    }\n",
              "    (() => {\n",
              "      let quickchartButtonEl =\n",
              "        document.querySelector('#df-c024b4d3-23d9-4bdb-a096-d0530d182c2f button');\n",
              "      quickchartButtonEl.style.display =\n",
              "        google.colab.kernel.accessAllowed ? 'block' : 'none';\n",
              "    })();\n",
              "  </script>\n",
              "</div>\n",
              "    </div>\n",
              "  </div>\n"
            ]
          },
          "metadata": {},
          "execution_count": 67
        }
      ],
      "source": [
        "# Show scores in the three cases\n",
        "dict_scores2 = pd.DataFrame(dict_scores)\n",
        "row_indices = ['From RFE', 'From LASSO', 'From Uni_LR + Corr']\n",
        "dict_scores2.index = row_indices\n",
        "dict_scores2"
      ],
      "metadata": {
        "ExecuteTime": {
          "end_time": "2023-09-18T21:34:47.659612Z",
          "start_time": "2023-09-18T21:34:47.632684Z"
        },
        "colab": {
          "base_uri": "https://localhost:8080/",
          "height": 143
        },
        "id": "388e62c8b0fbf80d",
        "outputId": "9e8fed3f-9984-4aa5-db96-b3f87bbd25e5"
      },
      "id": "388e62c8b0fbf80d"
    },
    {
      "cell_type": "markdown",
      "source": [
        "#### EBM"
      ],
      "metadata": {
        "id": "eHEFOpQRBgiR"
      },
      "id": "eHEFOpQRBgiR"
    },
    {
      "cell_type": "code",
      "execution_count": null,
      "outputs": [
        {
          "output_type": "stream",
          "name": "stdout",
          "text": [
            "Collecting interpret\n",
            "  Downloading interpret-0.4.4-py3-none-any.whl (1.4 kB)\n",
            "Collecting interpret-core[dash,debug,decisiontree,ebm,lime,linear,notebook,plotly,required,sensitivity,shap,skoperules,treeinterpreter]==0.4.4 (from interpret)\n",
            "  Downloading interpret_core-0.4.4-py3-none-any.whl (16.9 MB)\n",
            "\u001b[2K     \u001b[90m━━━━━━━━━━━━━━━━━━━━━━━━━━━━━━━━━━━━━━━━\u001b[0m \u001b[32m16.9/16.9 MB\u001b[0m \u001b[31m43.4 MB/s\u001b[0m eta \u001b[36m0:00:00\u001b[0m\n",
            "\u001b[?25hCollecting lime>=0.1.1.33 (from interpret-core[dash,debug,decisiontree,ebm,lime,linear,notebook,plotly,required,sensitivity,shap,skoperules,treeinterpreter]==0.4.4->interpret)\n",
            "  Downloading lime-0.2.0.1.tar.gz (275 kB)\n",
            "\u001b[2K     \u001b[90m━━━━━━━━━━━━━━━━━━━━━━━━━━━━━━━━━━━━━━\u001b[0m \u001b[32m275.7/275.7 kB\u001b[0m \u001b[31m22.6 MB/s\u001b[0m eta \u001b[36m0:00:00\u001b[0m\n",
            "\u001b[?25h  Preparing metadata (setup.py) ... \u001b[?25l\u001b[?25hdone\n",
            "Requirement already satisfied: plotly>=3.8.1 in /usr/local/lib/python3.10/dist-packages (from interpret-core[dash,debug,decisiontree,ebm,lime,linear,notebook,plotly,required,sensitivity,shap,skoperules,treeinterpreter]==0.4.4->interpret) (5.15.0)\n",
            "Collecting dash>=1.0.0 (from interpret-core[dash,debug,decisiontree,ebm,lime,linear,notebook,plotly,required,sensitivity,shap,skoperules,treeinterpreter]==0.4.4->interpret)\n",
            "  Downloading dash-2.13.0-py3-none-any.whl (10.4 MB)\n",
            "\u001b[2K     \u001b[90m━━━━━━━━━━━━━━━━━━━━━━━━━━━━━━━━━━━━━━━━\u001b[0m \u001b[32m10.4/10.4 MB\u001b[0m \u001b[31m48.6 MB/s\u001b[0m eta \u001b[36m0:00:00\u001b[0m\n",
            "\u001b[?25hCollecting dash-core-components>=1.0.0 (from interpret-core[dash,debug,decisiontree,ebm,lime,linear,notebook,plotly,required,sensitivity,shap,skoperules,treeinterpreter]==0.4.4->interpret)\n",
            "  Downloading dash_core_components-2.0.0-py3-none-any.whl (3.8 kB)\n",
            "Collecting dash-html-components>=1.0.0 (from interpret-core[dash,debug,decisiontree,ebm,lime,linear,notebook,plotly,required,sensitivity,shap,skoperules,treeinterpreter]==0.4.4->interpret)\n",
            "  Downloading dash_html_components-2.0.0-py3-none-any.whl (4.1 kB)\n",
            "Collecting dash-table>=4.1.0 (from interpret-core[dash,debug,decisiontree,ebm,lime,linear,notebook,plotly,required,sensitivity,shap,skoperules,treeinterpreter]==0.4.4->interpret)\n",
            "  Downloading dash_table-5.0.0-py3-none-any.whl (3.9 kB)\n",
            "Collecting dash-cytoscape>=0.1.1 (from interpret-core[dash,debug,decisiontree,ebm,lime,linear,notebook,plotly,required,sensitivity,shap,skoperules,treeinterpreter]==0.4.4->interpret)\n",
            "  Downloading dash_cytoscape-0.3.0-py3-none-any.whl (3.6 MB)\n",
            "\u001b[2K     \u001b[90m━━━━━━━━━━━━━━━━━━━━━━━━━━━━━━━━━━━━━━━━\u001b[0m \u001b[32m3.6/3.6 MB\u001b[0m \u001b[31m49.1 MB/s\u001b[0m eta \u001b[36m0:00:00\u001b[0m\n",
            "\u001b[?25hCollecting gevent>=1.3.6 (from interpret-core[dash,debug,decisiontree,ebm,lime,linear,notebook,plotly,required,sensitivity,shap,skoperules,treeinterpreter]==0.4.4->interpret)\n",
            "  Downloading gevent-23.9.1-cp310-cp310-manylinux_2_28_x86_64.whl (6.4 MB)\n",
            "\u001b[2K     \u001b[90m━━━━━━━━━━━━━━━━━━━━━━━━━━━━━━━━━━━━━━━━\u001b[0m \u001b[32m6.4/6.4 MB\u001b[0m \u001b[31m51.8 MB/s\u001b[0m eta \u001b[36m0:00:00\u001b[0m\n",
            "\u001b[?25hRequirement already satisfied: requests>=2.19.0 in /usr/local/lib/python3.10/dist-packages (from interpret-core[dash,debug,decisiontree,ebm,lime,linear,notebook,plotly,required,sensitivity,shap,skoperules,treeinterpreter]==0.4.4->interpret) (2.31.0)\n",
            "Collecting skope-rules>=1.0.1 (from interpret-core[dash,debug,decisiontree,ebm,lime,linear,notebook,plotly,required,sensitivity,shap,skoperules,treeinterpreter]==0.4.4->interpret)\n",
            "  Downloading skope_rules-1.0.1-py3-none-any.whl (14 kB)\n",
            "Collecting shap>=0.28.5 (from interpret-core[dash,debug,decisiontree,ebm,lime,linear,notebook,plotly,required,sensitivity,shap,skoperules,treeinterpreter]==0.4.4->interpret)\n",
            "  Downloading shap-0.42.1-cp310-cp310-manylinux_2_12_x86_64.manylinux2010_x86_64.manylinux_2_17_x86_64.manylinux2014_x86_64.whl (547 kB)\n",
            "\u001b[2K     \u001b[90m━━━━━━━━━━━━━━━━━━━━━━━━━━━━━━━━━━━━━━\u001b[0m \u001b[32m547.9/547.9 kB\u001b[0m \u001b[31m32.5 MB/s\u001b[0m eta \u001b[36m0:00:00\u001b[0m\n",
            "\u001b[?25hCollecting dill>=0.2.5 (from interpret-core[dash,debug,decisiontree,ebm,lime,linear,notebook,plotly,required,sensitivity,shap,skoperules,treeinterpreter]==0.4.4->interpret)\n",
            "  Downloading dill-0.3.7-py3-none-any.whl (115 kB)\n",
            "\u001b[2K     \u001b[90m━━━━━━━━━━━━━━━━━━━━━━━━━━━━━━━━━━━━━━\u001b[0m \u001b[32m115.3/115.3 kB\u001b[0m \u001b[31m12.1 MB/s\u001b[0m eta \u001b[36m0:00:00\u001b[0m\n",
            "\u001b[?25hRequirement already satisfied: joblib>=0.11 in /usr/local/lib/python3.10/dist-packages (from interpret-core[dash,debug,decisiontree,ebm,lime,linear,notebook,plotly,required,sensitivity,shap,skoperules,treeinterpreter]==0.4.4->interpret) (1.3.2)\n",
            "Requirement already satisfied: ipykernel>=4.10.0 in /usr/local/lib/python3.10/dist-packages (from interpret-core[dash,debug,decisiontree,ebm,lime,linear,notebook,plotly,required,sensitivity,shap,skoperules,treeinterpreter]==0.4.4->interpret) (5.5.6)\n",
            "Requirement already satisfied: ipython>=5.5.0 in /usr/local/lib/python3.10/dist-packages (from interpret-core[dash,debug,decisiontree,ebm,lime,linear,notebook,plotly,required,sensitivity,shap,skoperules,treeinterpreter]==0.4.4->interpret) (7.34.0)\n",
            "Collecting treeinterpreter>=0.2.2 (from interpret-core[dash,debug,decisiontree,ebm,lime,linear,notebook,plotly,required,sensitivity,shap,skoperules,treeinterpreter]==0.4.4->interpret)\n",
            "  Downloading treeinterpreter-0.2.3-py2.py3-none-any.whl (6.0 kB)\n",
            "Requirement already satisfied: numpy>=1.11.1 in /usr/local/lib/python3.10/dist-packages (from interpret-core[dash,debug,decisiontree,ebm,lime,linear,notebook,plotly,required,sensitivity,shap,skoperules,treeinterpreter]==0.4.4->interpret) (1.23.5)\n",
            "Requirement already satisfied: scipy>=0.18.1 in /usr/local/lib/python3.10/dist-packages (from interpret-core[dash,debug,decisiontree,ebm,lime,linear,notebook,plotly,required,sensitivity,shap,skoperules,treeinterpreter]==0.4.4->interpret) (1.11.2)\n",
            "Requirement already satisfied: pandas>=0.19.2 in /usr/local/lib/python3.10/dist-packages (from interpret-core[dash,debug,decisiontree,ebm,lime,linear,notebook,plotly,required,sensitivity,shap,skoperules,treeinterpreter]==0.4.4->interpret) (1.5.3)\n",
            "Requirement already satisfied: scikit-learn>=0.18.1 in /usr/local/lib/python3.10/dist-packages (from interpret-core[dash,debug,decisiontree,ebm,lime,linear,notebook,plotly,required,sensitivity,shap,skoperules,treeinterpreter]==0.4.4->interpret) (1.2.2)\n",
            "Requirement already satisfied: psutil>=5.6.2 in /usr/local/lib/python3.10/dist-packages (from interpret-core[dash,debug,decisiontree,ebm,lime,linear,notebook,plotly,required,sensitivity,shap,skoperules,treeinterpreter]==0.4.4->interpret) (5.9.5)\n",
            "Collecting SALib>=1.3.3 (from interpret-core[dash,debug,decisiontree,ebm,lime,linear,notebook,plotly,required,sensitivity,shap,skoperules,treeinterpreter]==0.4.4->interpret)\n",
            "  Downloading salib-1.4.7-py3-none-any.whl (757 kB)\n",
            "\u001b[2K     \u001b[90m━━━━━━━━━━━━━━━━━━━━━━━━━━━━━━━━━━━━━━\u001b[0m \u001b[32m758.0/758.0 kB\u001b[0m \u001b[31m39.3 MB/s\u001b[0m eta \u001b[36m0:00:00\u001b[0m\n",
            "\u001b[?25hRequirement already satisfied: Flask<2.3.0,>=1.0.4 in /usr/local/lib/python3.10/dist-packages (from dash>=1.0.0->interpret-core[dash,debug,decisiontree,ebm,lime,linear,notebook,plotly,required,sensitivity,shap,skoperules,treeinterpreter]==0.4.4->interpret) (2.2.5)\n",
            "Collecting Werkzeug<2.3.0 (from dash>=1.0.0->interpret-core[dash,debug,decisiontree,ebm,lime,linear,notebook,plotly,required,sensitivity,shap,skoperules,treeinterpreter]==0.4.4->interpret)\n",
            "  Downloading Werkzeug-2.2.3-py3-none-any.whl (233 kB)\n",
            "\u001b[2K     \u001b[90m━━━━━━━━━━━━━━━━━━━━━━━━━━━━━━━━━━━━━━\u001b[0m \u001b[32m233.6/233.6 kB\u001b[0m \u001b[31m17.1 MB/s\u001b[0m eta \u001b[36m0:00:00\u001b[0m\n",
            "\u001b[?25hRequirement already satisfied: typing-extensions>=4.1.1 in /usr/local/lib/python3.10/dist-packages (from dash>=1.0.0->interpret-core[dash,debug,decisiontree,ebm,lime,linear,notebook,plotly,required,sensitivity,shap,skoperules,treeinterpreter]==0.4.4->interpret) (4.5.0)\n",
            "Collecting retrying (from dash>=1.0.0->interpret-core[dash,debug,decisiontree,ebm,lime,linear,notebook,plotly,required,sensitivity,shap,skoperules,treeinterpreter]==0.4.4->interpret)\n",
            "  Downloading retrying-1.3.4-py3-none-any.whl (11 kB)\n",
            "Collecting ansi2html (from dash>=1.0.0->interpret-core[dash,debug,decisiontree,ebm,lime,linear,notebook,plotly,required,sensitivity,shap,skoperules,treeinterpreter]==0.4.4->interpret)\n",
            "  Downloading ansi2html-1.8.0-py3-none-any.whl (16 kB)\n",
            "Requirement already satisfied: nest-asyncio in /usr/local/lib/python3.10/dist-packages (from dash>=1.0.0->interpret-core[dash,debug,decisiontree,ebm,lime,linear,notebook,plotly,required,sensitivity,shap,skoperules,treeinterpreter]==0.4.4->interpret) (1.5.7)\n",
            "Requirement already satisfied: setuptools in /usr/local/lib/python3.10/dist-packages (from dash>=1.0.0->interpret-core[dash,debug,decisiontree,ebm,lime,linear,notebook,plotly,required,sensitivity,shap,skoperules,treeinterpreter]==0.4.4->interpret) (67.7.2)\n",
            "Collecting zope.event (from gevent>=1.3.6->interpret-core[dash,debug,decisiontree,ebm,lime,linear,notebook,plotly,required,sensitivity,shap,skoperules,treeinterpreter]==0.4.4->interpret)\n",
            "  Downloading zope.event-5.0-py3-none-any.whl (6.8 kB)\n",
            "Collecting zope.interface (from gevent>=1.3.6->interpret-core[dash,debug,decisiontree,ebm,lime,linear,notebook,plotly,required,sensitivity,shap,skoperules,treeinterpreter]==0.4.4->interpret)\n",
            "  Downloading zope.interface-6.0-cp310-cp310-manylinux_2_5_x86_64.manylinux1_x86_64.manylinux_2_17_x86_64.manylinux2014_x86_64.whl (246 kB)\n",
            "\u001b[2K     \u001b[90m━━━━━━━━━━━━━━━━━━━━━━━━━━━━━━━━━━━━━━\u001b[0m \u001b[32m247.0/247.0 kB\u001b[0m \u001b[31m18.6 MB/s\u001b[0m eta \u001b[36m0:00:00\u001b[0m\n",
            "\u001b[?25hRequirement already satisfied: greenlet>=2.0.0 in /usr/local/lib/python3.10/dist-packages (from gevent>=1.3.6->interpret-core[dash,debug,decisiontree,ebm,lime,linear,notebook,plotly,required,sensitivity,shap,skoperules,treeinterpreter]==0.4.4->interpret) (2.0.2)\n",
            "Requirement already satisfied: ipython-genutils in /usr/local/lib/python3.10/dist-packages (from ipykernel>=4.10.0->interpret-core[dash,debug,decisiontree,ebm,lime,linear,notebook,plotly,required,sensitivity,shap,skoperules,treeinterpreter]==0.4.4->interpret) (0.2.0)\n",
            "Requirement already satisfied: traitlets>=4.1.0 in /usr/local/lib/python3.10/dist-packages (from ipykernel>=4.10.0->interpret-core[dash,debug,decisiontree,ebm,lime,linear,notebook,plotly,required,sensitivity,shap,skoperules,treeinterpreter]==0.4.4->interpret) (5.7.1)\n",
            "Requirement already satisfied: jupyter-client in /usr/local/lib/python3.10/dist-packages (from ipykernel>=4.10.0->interpret-core[dash,debug,decisiontree,ebm,lime,linear,notebook,plotly,required,sensitivity,shap,skoperules,treeinterpreter]==0.4.4->interpret) (6.1.12)\n",
            "Requirement already satisfied: tornado>=4.2 in /usr/local/lib/python3.10/dist-packages (from ipykernel>=4.10.0->interpret-core[dash,debug,decisiontree,ebm,lime,linear,notebook,plotly,required,sensitivity,shap,skoperules,treeinterpreter]==0.4.4->interpret) (6.3.2)\n",
            "Collecting jedi>=0.16 (from ipython>=5.5.0->interpret-core[dash,debug,decisiontree,ebm,lime,linear,notebook,plotly,required,sensitivity,shap,skoperules,treeinterpreter]==0.4.4->interpret)\n",
            "  Downloading jedi-0.19.0-py2.py3-none-any.whl (1.6 MB)\n",
            "\u001b[2K     \u001b[90m━━━━━━━━━━━━━━━━━━━━━━━━━━━━━━━━━━━━━━━━\u001b[0m \u001b[32m1.6/1.6 MB\u001b[0m \u001b[31m60.6 MB/s\u001b[0m eta \u001b[36m0:00:00\u001b[0m\n",
            "\u001b[?25hRequirement already satisfied: decorator in /usr/local/lib/python3.10/dist-packages (from ipython>=5.5.0->interpret-core[dash,debug,decisiontree,ebm,lime,linear,notebook,plotly,required,sensitivity,shap,skoperules,treeinterpreter]==0.4.4->interpret) (4.4.2)\n",
            "Requirement already satisfied: pickleshare in /usr/local/lib/python3.10/dist-packages (from ipython>=5.5.0->interpret-core[dash,debug,decisiontree,ebm,lime,linear,notebook,plotly,required,sensitivity,shap,skoperules,treeinterpreter]==0.4.4->interpret) (0.7.5)\n",
            "Requirement already satisfied: prompt-toolkit!=3.0.0,!=3.0.1,<3.1.0,>=2.0.0 in /usr/local/lib/python3.10/dist-packages (from ipython>=5.5.0->interpret-core[dash,debug,decisiontree,ebm,lime,linear,notebook,plotly,required,sensitivity,shap,skoperules,treeinterpreter]==0.4.4->interpret) (3.0.39)\n",
            "Requirement already satisfied: pygments in /usr/local/lib/python3.10/dist-packages (from ipython>=5.5.0->interpret-core[dash,debug,decisiontree,ebm,lime,linear,notebook,plotly,required,sensitivity,shap,skoperules,treeinterpreter]==0.4.4->interpret) (2.16.1)\n",
            "Requirement already satisfied: backcall in /usr/local/lib/python3.10/dist-packages (from ipython>=5.5.0->interpret-core[dash,debug,decisiontree,ebm,lime,linear,notebook,plotly,required,sensitivity,shap,skoperules,treeinterpreter]==0.4.4->interpret) (0.2.0)\n",
            "Requirement already satisfied: matplotlib-inline in /usr/local/lib/python3.10/dist-packages (from ipython>=5.5.0->interpret-core[dash,debug,decisiontree,ebm,lime,linear,notebook,plotly,required,sensitivity,shap,skoperules,treeinterpreter]==0.4.4->interpret) (0.1.6)\n",
            "Requirement already satisfied: pexpect>4.3 in /usr/local/lib/python3.10/dist-packages (from ipython>=5.5.0->interpret-core[dash,debug,decisiontree,ebm,lime,linear,notebook,plotly,required,sensitivity,shap,skoperules,treeinterpreter]==0.4.4->interpret) (4.8.0)\n",
            "Requirement already satisfied: matplotlib in /usr/local/lib/python3.10/dist-packages (from lime>=0.1.1.33->interpret-core[dash,debug,decisiontree,ebm,lime,linear,notebook,plotly,required,sensitivity,shap,skoperules,treeinterpreter]==0.4.4->interpret) (3.7.1)\n",
            "Requirement already satisfied: tqdm in /usr/local/lib/python3.10/dist-packages (from lime>=0.1.1.33->interpret-core[dash,debug,decisiontree,ebm,lime,linear,notebook,plotly,required,sensitivity,shap,skoperules,treeinterpreter]==0.4.4->interpret) (4.66.1)\n",
            "Requirement already satisfied: scikit-image>=0.12 in /usr/local/lib/python3.10/dist-packages (from lime>=0.1.1.33->interpret-core[dash,debug,decisiontree,ebm,lime,linear,notebook,plotly,required,sensitivity,shap,skoperules,treeinterpreter]==0.4.4->interpret) (0.19.3)\n",
            "Requirement already satisfied: python-dateutil>=2.8.1 in /usr/local/lib/python3.10/dist-packages (from pandas>=0.19.2->interpret-core[dash,debug,decisiontree,ebm,lime,linear,notebook,plotly,required,sensitivity,shap,skoperules,treeinterpreter]==0.4.4->interpret) (2.8.2)\n",
            "Requirement already satisfied: pytz>=2020.1 in /usr/local/lib/python3.10/dist-packages (from pandas>=0.19.2->interpret-core[dash,debug,decisiontree,ebm,lime,linear,notebook,plotly,required,sensitivity,shap,skoperules,treeinterpreter]==0.4.4->interpret) (2023.3.post1)\n",
            "Requirement already satisfied: tenacity>=6.2.0 in /usr/local/lib/python3.10/dist-packages (from plotly>=3.8.1->interpret-core[dash,debug,decisiontree,ebm,lime,linear,notebook,plotly,required,sensitivity,shap,skoperules,treeinterpreter]==0.4.4->interpret) (8.2.3)\n",
            "Requirement already satisfied: packaging in /usr/local/lib/python3.10/dist-packages (from plotly>=3.8.1->interpret-core[dash,debug,decisiontree,ebm,lime,linear,notebook,plotly,required,sensitivity,shap,skoperules,treeinterpreter]==0.4.4->interpret) (23.1)\n",
            "Requirement already satisfied: charset-normalizer<4,>=2 in /usr/local/lib/python3.10/dist-packages (from requests>=2.19.0->interpret-core[dash,debug,decisiontree,ebm,lime,linear,notebook,plotly,required,sensitivity,shap,skoperules,treeinterpreter]==0.4.4->interpret) (3.2.0)\n",
            "Requirement already satisfied: idna<4,>=2.5 in /usr/local/lib/python3.10/dist-packages (from requests>=2.19.0->interpret-core[dash,debug,decisiontree,ebm,lime,linear,notebook,plotly,required,sensitivity,shap,skoperules,treeinterpreter]==0.4.4->interpret) (3.4)\n",
            "Requirement already satisfied: urllib3<3,>=1.21.1 in /usr/local/lib/python3.10/dist-packages (from requests>=2.19.0->interpret-core[dash,debug,decisiontree,ebm,lime,linear,notebook,plotly,required,sensitivity,shap,skoperules,treeinterpreter]==0.4.4->interpret) (2.0.4)\n",
            "Requirement already satisfied: certifi>=2017.4.17 in /usr/local/lib/python3.10/dist-packages (from requests>=2.19.0->interpret-core[dash,debug,decisiontree,ebm,lime,linear,notebook,plotly,required,sensitivity,shap,skoperules,treeinterpreter]==0.4.4->interpret) (2023.7.22)\n",
            "Collecting multiprocess (from SALib>=1.3.3->interpret-core[dash,debug,decisiontree,ebm,lime,linear,notebook,plotly,required,sensitivity,shap,skoperules,treeinterpreter]==0.4.4->interpret)\n",
            "  Downloading multiprocess-0.70.15-py310-none-any.whl (134 kB)\n",
            "\u001b[2K     \u001b[90m━━━━━━━━━━━━━━━━━━━━━━━━━━━━━━━━━━━━━━\u001b[0m \u001b[32m134.8/134.8 kB\u001b[0m \u001b[31m12.0 MB/s\u001b[0m eta \u001b[36m0:00:00\u001b[0m\n",
            "\u001b[?25hRequirement already satisfied: threadpoolctl>=2.0.0 in /usr/local/lib/python3.10/dist-packages (from scikit-learn>=0.18.1->interpret-core[dash,debug,decisiontree,ebm,lime,linear,notebook,plotly,required,sensitivity,shap,skoperules,treeinterpreter]==0.4.4->interpret) (3.2.0)\n",
            "Collecting slicer==0.0.7 (from shap>=0.28.5->interpret-core[dash,debug,decisiontree,ebm,lime,linear,notebook,plotly,required,sensitivity,shap,skoperules,treeinterpreter]==0.4.4->interpret)\n",
            "  Downloading slicer-0.0.7-py3-none-any.whl (14 kB)\n",
            "Requirement already satisfied: numba in /usr/local/lib/python3.10/dist-packages (from shap>=0.28.5->interpret-core[dash,debug,decisiontree,ebm,lime,linear,notebook,plotly,required,sensitivity,shap,skoperules,treeinterpreter]==0.4.4->interpret) (0.56.4)\n",
            "Requirement already satisfied: cloudpickle in /usr/local/lib/python3.10/dist-packages (from shap>=0.28.5->interpret-core[dash,debug,decisiontree,ebm,lime,linear,notebook,plotly,required,sensitivity,shap,skoperules,treeinterpreter]==0.4.4->interpret) (2.2.1)\n",
            "Requirement already satisfied: Jinja2>=3.0 in /usr/local/lib/python3.10/dist-packages (from Flask<2.3.0,>=1.0.4->dash>=1.0.0->interpret-core[dash,debug,decisiontree,ebm,lime,linear,notebook,plotly,required,sensitivity,shap,skoperules,treeinterpreter]==0.4.4->interpret) (3.1.2)\n",
            "Requirement already satisfied: itsdangerous>=2.0 in /usr/local/lib/python3.10/dist-packages (from Flask<2.3.0,>=1.0.4->dash>=1.0.0->interpret-core[dash,debug,decisiontree,ebm,lime,linear,notebook,plotly,required,sensitivity,shap,skoperules,treeinterpreter]==0.4.4->interpret) (2.1.2)\n",
            "Requirement already satisfied: click>=8.0 in /usr/local/lib/python3.10/dist-packages (from Flask<2.3.0,>=1.0.4->dash>=1.0.0->interpret-core[dash,debug,decisiontree,ebm,lime,linear,notebook,plotly,required,sensitivity,shap,skoperules,treeinterpreter]==0.4.4->interpret) (8.1.7)\n",
            "Requirement already satisfied: parso<0.9.0,>=0.8.3 in /usr/local/lib/python3.10/dist-packages (from jedi>=0.16->ipython>=5.5.0->interpret-core[dash,debug,decisiontree,ebm,lime,linear,notebook,plotly,required,sensitivity,shap,skoperules,treeinterpreter]==0.4.4->interpret) (0.8.3)\n",
            "Requirement already satisfied: contourpy>=1.0.1 in /usr/local/lib/python3.10/dist-packages (from matplotlib->lime>=0.1.1.33->interpret-core[dash,debug,decisiontree,ebm,lime,linear,notebook,plotly,required,sensitivity,shap,skoperules,treeinterpreter]==0.4.4->interpret) (1.1.0)\n",
            "Requirement already satisfied: cycler>=0.10 in /usr/local/lib/python3.10/dist-packages (from matplotlib->lime>=0.1.1.33->interpret-core[dash,debug,decisiontree,ebm,lime,linear,notebook,plotly,required,sensitivity,shap,skoperules,treeinterpreter]==0.4.4->interpret) (0.11.0)\n",
            "Requirement already satisfied: fonttools>=4.22.0 in /usr/local/lib/python3.10/dist-packages (from matplotlib->lime>=0.1.1.33->interpret-core[dash,debug,decisiontree,ebm,lime,linear,notebook,plotly,required,sensitivity,shap,skoperules,treeinterpreter]==0.4.4->interpret) (4.42.1)\n",
            "Requirement already satisfied: kiwisolver>=1.0.1 in /usr/local/lib/python3.10/dist-packages (from matplotlib->lime>=0.1.1.33->interpret-core[dash,debug,decisiontree,ebm,lime,linear,notebook,plotly,required,sensitivity,shap,skoperules,treeinterpreter]==0.4.4->interpret) (1.4.5)\n",
            "Requirement already satisfied: pillow>=6.2.0 in /usr/local/lib/python3.10/dist-packages (from matplotlib->lime>=0.1.1.33->interpret-core[dash,debug,decisiontree,ebm,lime,linear,notebook,plotly,required,sensitivity,shap,skoperules,treeinterpreter]==0.4.4->interpret) (9.4.0)\n",
            "Requirement already satisfied: pyparsing>=2.3.1 in /usr/local/lib/python3.10/dist-packages (from matplotlib->lime>=0.1.1.33->interpret-core[dash,debug,decisiontree,ebm,lime,linear,notebook,plotly,required,sensitivity,shap,skoperules,treeinterpreter]==0.4.4->interpret) (3.1.1)\n",
            "Requirement already satisfied: ptyprocess>=0.5 in /usr/local/lib/python3.10/dist-packages (from pexpect>4.3->ipython>=5.5.0->interpret-core[dash,debug,decisiontree,ebm,lime,linear,notebook,plotly,required,sensitivity,shap,skoperules,treeinterpreter]==0.4.4->interpret) (0.7.0)\n",
            "Requirement already satisfied: wcwidth in /usr/local/lib/python3.10/dist-packages (from prompt-toolkit!=3.0.0,!=3.0.1,<3.1.0,>=2.0.0->ipython>=5.5.0->interpret-core[dash,debug,decisiontree,ebm,lime,linear,notebook,plotly,required,sensitivity,shap,skoperules,treeinterpreter]==0.4.4->interpret) (0.2.6)\n",
            "Requirement already satisfied: six>=1.5 in /usr/local/lib/python3.10/dist-packages (from python-dateutil>=2.8.1->pandas>=0.19.2->interpret-core[dash,debug,decisiontree,ebm,lime,linear,notebook,plotly,required,sensitivity,shap,skoperules,treeinterpreter]==0.4.4->interpret) (1.16.0)\n",
            "Requirement already satisfied: networkx>=2.2 in /usr/local/lib/python3.10/dist-packages (from scikit-image>=0.12->lime>=0.1.1.33->interpret-core[dash,debug,decisiontree,ebm,lime,linear,notebook,plotly,required,sensitivity,shap,skoperules,treeinterpreter]==0.4.4->interpret) (3.1)\n",
            "Requirement already satisfied: imageio>=2.4.1 in /usr/local/lib/python3.10/dist-packages (from scikit-image>=0.12->lime>=0.1.1.33->interpret-core[dash,debug,decisiontree,ebm,lime,linear,notebook,plotly,required,sensitivity,shap,skoperules,treeinterpreter]==0.4.4->interpret) (2.31.3)\n",
            "Requirement already satisfied: tifffile>=2019.7.26 in /usr/local/lib/python3.10/dist-packages (from scikit-image>=0.12->lime>=0.1.1.33->interpret-core[dash,debug,decisiontree,ebm,lime,linear,notebook,plotly,required,sensitivity,shap,skoperules,treeinterpreter]==0.4.4->interpret) (2023.8.30)\n",
            "Requirement already satisfied: PyWavelets>=1.1.1 in /usr/local/lib/python3.10/dist-packages (from scikit-image>=0.12->lime>=0.1.1.33->interpret-core[dash,debug,decisiontree,ebm,lime,linear,notebook,plotly,required,sensitivity,shap,skoperules,treeinterpreter]==0.4.4->interpret) (1.4.1)\n",
            "Requirement already satisfied: MarkupSafe>=2.1.1 in /usr/local/lib/python3.10/dist-packages (from Werkzeug<2.3.0->dash>=1.0.0->interpret-core[dash,debug,decisiontree,ebm,lime,linear,notebook,plotly,required,sensitivity,shap,skoperules,treeinterpreter]==0.4.4->interpret) (2.1.3)\n",
            "Requirement already satisfied: jupyter-core>=4.6.0 in /usr/local/lib/python3.10/dist-packages (from jupyter-client->ipykernel>=4.10.0->interpret-core[dash,debug,decisiontree,ebm,lime,linear,notebook,plotly,required,sensitivity,shap,skoperules,treeinterpreter]==0.4.4->interpret) (5.3.1)\n",
            "Requirement already satisfied: pyzmq>=13 in /usr/local/lib/python3.10/dist-packages (from jupyter-client->ipykernel>=4.10.0->interpret-core[dash,debug,decisiontree,ebm,lime,linear,notebook,plotly,required,sensitivity,shap,skoperules,treeinterpreter]==0.4.4->interpret) (23.2.1)\n",
            "Requirement already satisfied: llvmlite<0.40,>=0.39.0dev0 in /usr/local/lib/python3.10/dist-packages (from numba->shap>=0.28.5->interpret-core[dash,debug,decisiontree,ebm,lime,linear,notebook,plotly,required,sensitivity,shap,skoperules,treeinterpreter]==0.4.4->interpret) (0.39.1)\n",
            "Requirement already satisfied: platformdirs>=2.5 in /usr/local/lib/python3.10/dist-packages (from jupyter-core>=4.6.0->jupyter-client->ipykernel>=4.10.0->interpret-core[dash,debug,decisiontree,ebm,lime,linear,notebook,plotly,required,sensitivity,shap,skoperules,treeinterpreter]==0.4.4->interpret) (3.10.0)\n",
            "Building wheels for collected packages: lime\n",
            "  Building wheel for lime (setup.py) ... \u001b[?25l\u001b[?25hdone\n",
            "  Created wheel for lime: filename=lime-0.2.0.1-py3-none-any.whl size=283834 sha256=b5a937b1100413af6ac7355c6597d3af73db0522aef329c4e2fba843c72fb2a0\n",
            "  Stored in directory: /root/.cache/pip/wheels/fd/a2/af/9ac0a1a85a27f314a06b39e1f492bee1547d52549a4606ed89\n",
            "Successfully built lime\n",
            "Installing collected packages: treeinterpreter, interpret-core, dash-table, dash-html-components, dash-core-components, zope.interface, zope.event, Werkzeug, slicer, retrying, jedi, dill, ansi2html, multiprocess, gevent, skope-rules, shap, SALib, lime, dash, dash-cytoscape, interpret\n",
            "  Attempting uninstall: Werkzeug\n",
            "    Found existing installation: Werkzeug 2.3.7\n",
            "    Uninstalling Werkzeug-2.3.7:\n",
            "      Successfully uninstalled Werkzeug-2.3.7\n",
            "Successfully installed SALib-1.4.7 Werkzeug-2.2.3 ansi2html-1.8.0 dash-2.13.0 dash-core-components-2.0.0 dash-cytoscape-0.3.0 dash-html-components-2.0.0 dash-table-5.0.0 dill-0.3.7 gevent-23.9.1 interpret-0.4.4 interpret-core-0.4.4 jedi-0.19.0 lime-0.2.0.1 multiprocess-0.70.15 retrying-1.3.4 shap-0.42.1 skope-rules-1.0.1 slicer-0.0.7 treeinterpreter-0.2.3 zope.event-5.0 zope.interface-6.0\n"
          ]
        }
      ],
      "source": [
        "!pip install interpret\n",
        "from interpret.glassbox import ExplainableBoostingClassifier"
      ],
      "metadata": {
        "colab": {
          "base_uri": "https://localhost:8080/"
        },
        "id": "f9e8cc0fcd335697",
        "outputId": "4350eba7-f638-424b-9e67-acd3fac62082"
      },
      "id": "f9e8cc0fcd335697"
    },
    {
      "cell_type": "code",
      "source": [
        "dict_scores = []\n",
        "\n",
        "\n",
        "ebm_model = ExplainableBoostingClassifier()\n",
        "ebm_model.fit(X_train, y_train)\n",
        "\n",
        "y_pred = ebm_model.predict(X_test)\n",
        "\n",
        "# Calculate and display the Precision-Recall curve and PRAUC\n",
        "precision, recall, _ = precision_recall_curve(y_test, y_pred_prob)\n",
        "prauc = auc(recall, precision)\n",
        "\n",
        "plt.figure(figsize=(8, 6))\n",
        "plt.plot(recall, precision, marker='.')\n",
        "plt.xlabel('Recall')\n",
        "plt.ylabel('Precision')\n",
        "plt.title('Precision-Recall Curve (PRAUC = {:.2f})'.format(prauc))\n",
        "plt.grid(True)\n",
        "plt.show()\n",
        "\n",
        "# Calculate and display the ROC curve and AUC\n",
        "fpr, tpr, _ = roc_curve(y_test, y_pred_prob)\n",
        "roc_auc = roc_auc_score(y_test, y_pred_prob)\n",
        "\n",
        "plt.figure(figsize=(8, 6))\n",
        "plt.plot(fpr, tpr, marker='.')\n",
        "plt.xlabel('False Positive Rate')\n",
        "plt.ylabel('True Positive Rate')\n",
        "plt.title('ROC Curve (AUC = {:.2f})'.format(roc_auc))\n",
        "plt.grid(True)\n",
        "plt.show()\n",
        "\n",
        "dict_scores.append({\"PRAUC\" : prauc,\"AUC\" : roc_auc})\n",
        "\n",
        "plt.tight_layout()\n",
        "plt.show()"
      ],
      "metadata": {
        "colab": {
          "base_uri": "https://localhost:8080/",
          "height": 1000
        },
        "id": "fDEpbdplBWxC",
        "outputId": "28f73cef-2093-4ef7-fb89-9804d4ff7e0d"
      },
      "id": "fDEpbdplBWxC",
      "execution_count": null,
      "outputs": [
        {
          "output_type": "display_data",
          "data": {
            "text/plain": [
              "<Figure size 800x600 with 1 Axes>"
            ],
            "image/png": "[encoded data removed]"
          },
          "metadata": {}
        },
        {
          "output_type": "display_data",
          "data": {
            "text/plain": [
              "<Figure size 800x600 with 1 Axes>"
            ],
            "image/png": "[encoded data removed]"
          },
          "metadata": {}
        },
        {
          "output_type": "display_data",
          "data": {
            "text/plain": [
              "<Figure size 640x480 with 0 Axes>"
            ]
          },
          "metadata": {}
        }
      ]
    },
    {
      "cell_type": "code",
      "source": [
        "# Print the PRAUC and AUC scores\n",
        "print('PRAUC:', prauc)\n",
        "print('AUC:', roc_auc)"
      ],
      "metadata": {
        "colab": {
          "base_uri": "https://localhost:8080/"
        },
        "id": "KJid5Hb0DllH",
        "outputId": "b1c53db9-8455-461b-90ff-dd61ff768c45"
      },
      "id": "KJid5Hb0DllH",
      "execution_count": null,
      "outputs": [
        {
          "output_type": "stream",
          "name": "stdout",
          "text": [
            "PRAUC: 0.31325990819525296\n",
            "AUC: 0.6296296296296297\n"
          ]
        }
      ]
    },
    {
      "cell_type": "code",
      "source": [],
      "metadata": {
        "id": "zWJMssuIFoYb"
      },
      "id": "zWJMssuIFoYb",
      "execution_count": null,
      "outputs": []
    }
  ],
  "metadata": {
    "kernelspec": {
      "display_name": "Python 3",
      "language": "python",
      "name": "python3"
    },
    "language_info": {
      "codemirror_mode": {
        "name": "ipython",
        "version": 2
      },
      "file_extension": ".py",
      "mimetype": "text/x-python",
      "name": "python",
      "nbconvert_exporter": "python",
      "pygments_lexer": "ipython2",
      "version": "2.7.6"
    },
    "colab": {
      "provenance": [],
      "include_colab_link": true
    }
  },
  "nbformat": 4,
  "nbformat_minor": 5
}